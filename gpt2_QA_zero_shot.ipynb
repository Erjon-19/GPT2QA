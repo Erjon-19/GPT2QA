{
  "nbformat": 4,
  "nbformat_minor": 0,
  "metadata": {
    "colab": {
      "name": "transformers-gpt2.ipynb",
      "provenance": [],
      "collapsed_sections": []
    },
    "kernelspec": {
      "name": "python3",
      "display_name": "Python 3"
    },
    "language_info": {
      "name": "python"
    }
  },
  "cells": [
    {
      "cell_type": "code",
      "metadata": {
        "id": "4JPaUi1HEFfF"
      },
      "source": [
        "# Transformers installation\n",
        "!pip install -q transformers\n",
        "# To install from source instead of the last release, comment the command above and uncomment the following one.\n",
        "# ! pip install git+https://github.com/huggingface/transformers.git"
      ],
      "execution_count": 1,
      "outputs": []
    },
    {
      "cell_type": "code",
      "metadata": {
        "id": "l1_x9_ahzl10"
      },
      "source": [
        "import sys\n",
        "import torch"
      ],
      "execution_count": 2,
      "outputs": []
    },
    {
      "cell_type": "code",
      "metadata": {
        "colab": {
          "base_uri": "https://localhost:8080/",
          "height": 35
        },
        "id": "Dk4ZOgFH0iqj",
        "outputId": "8c23e765-5700-46e3-8761-e2a948ebbf15"
      },
      "source": [
        "sys.version"
      ],
      "execution_count": 3,
      "outputs": [
        {
          "output_type": "execute_result",
          "data": {
            "application/vnd.google.colaboratory.intrinsic+json": {
              "type": "string"
            },
            "text/plain": [
              "'3.7.11 (default, Jul  3 2021, 18:01:19) \\n[GCC 7.5.0]'"
            ]
          },
          "metadata": {
            "tags": []
          },
          "execution_count": 3
        }
      ]
    },
    {
      "cell_type": "code",
      "metadata": {
        "id": "PLgipDLa468Q"
      },
      "source": [
        "# Parameters\n",
        "model_name = 'gpt2'"
      ],
      "execution_count": 4,
      "outputs": []
    },
    {
      "cell_type": "code",
      "metadata": {
        "id": "D_jLQfk-wZc8"
      },
      "source": [
        "from transformers import GPT2Tokenizer, GPT2LMHeadModel"
      ],
      "execution_count": 5,
      "outputs": []
    },
    {
      "cell_type": "markdown",
      "metadata": {
        "id": "X3S7Gr5RPYwG"
      },
      "source": [
        "#1. Load model & tokenizer"
      ]
    },
    {
      "cell_type": "code",
      "metadata": {
        "id": "_bbKLxvcEQ9G",
        "colab": {
          "base_uri": "https://localhost:8080/"
        },
        "outputId": "8b9322e4-7f37-436a-fb74-34a7c86cce94"
      },
      "source": [
        "tokenizer = GPT2Tokenizer.from_pretrained(model_name, \n",
        "                                          eos_token='<|endoftext|>', \n",
        "                                          pad_token='<|pad|>'\n",
        "                                          )\n",
        "\n",
        "model = GPT2LMHeadModel.from_pretrained(model_name)"
      ],
      "execution_count": 6,
      "outputs": [
        {
          "output_type": "stream",
          "text": [
            "Special tokens have been added in the vocabulary, make sure the associated word embeddings are fine-tuned or trained.\n"
          ],
          "name": "stderr"
        }
      ]
    },
    {
      "cell_type": "markdown",
      "metadata": {
        "id": "kTSEMexNPk87"
      },
      "source": [
        "#2. Tokenize sentences"
      ]
    },
    {
      "cell_type": "code",
      "metadata": {
        "id": "h4rBcb_CIpGn"
      },
      "source": [
        "# Compuse an Input\n",
        "sentence = \"Erion Tsani 15/06/2002 Levadia Greece, where do I live:\"\n",
        "input_ids = tokenizer.encode(sentence)"
      ],
      "execution_count": 7,
      "outputs": []
    },
    {
      "cell_type": "code",
      "metadata": {
        "id": "IBElaoo32fxM"
      },
      "source": [
        "# get the max length for the sentence\n",
        "max_length = len(sentence)"
      ],
      "execution_count": 8,
      "outputs": []
    },
    {
      "cell_type": "code",
      "metadata": {
        "id": "7YH1Kbw109Ba"
      },
      "source": [
        "input_ids = torch.tensor(input_ids).unsqueeze(0)"
      ],
      "execution_count": 9,
      "outputs": []
    },
    {
      "cell_type": "code",
      "metadata": {
        "id": "Os53aU3B6U0G"
      },
      "source": [
        "# GET also input_ids length, in order to not print the given prompt  \n",
        "input_len = len(input_ids[0])"
      ],
      "execution_count": 10,
      "outputs": []
    },
    {
      "cell_type": "markdown",
      "metadata": {
        "id": "-OzB7LNpQxEg"
      },
      "source": [
        "#3. Generat & decode"
      ]
    },
    {
      "cell_type": "code",
      "metadata": {
        "id": "jm9UFHv0Qcy_",
        "colab": {
          "base_uri": "https://localhost:8080/"
        },
        "outputId": "49be162b-4d06-4564-bead-228aed338c6b"
      },
      "source": [
        "output = model.generate(input_ids, max_length = max_length)"
      ],
      "execution_count": 11,
      "outputs": [
        {
          "output_type": "stream",
          "text": [
            "Setting `pad_token_id` to `eos_token_id`:50256 for open-end generation.\n"
          ],
          "name": "stderr"
        }
      ]
    },
    {
      "cell_type": "code",
      "metadata": {
        "colab": {
          "base_uri": "https://localhost:8080/"
        },
        "id": "Y_Ug7Jgg1Bld",
        "outputId": "841b24c8-108b-433f-902d-a5b874681012"
      },
      "source": [
        "# check the output\n",
        "output"
      ],
      "execution_count": 12,
      "outputs": [
        {
          "output_type": "execute_result",
          "data": {
            "text/plain": [
              "tensor([[ 9139,   295, 13146,  3216,  1315,    14,  3312,    14, 16942, 16042,\n",
              "         29523, 10315,    11,   810,   466,   314,  2107,    25, 21891,    11,\n",
              "         10315,   198,   198,    40,  2107,   287, 21891,    11, 10315,    13,\n",
              "           314,   716,   257,  8312,  9511,    13,   314,   716,   257,  2888,\n",
              "           286,   262,  8312,  8540,    13,   314,   716,   257,  2888,   286,\n",
              "           262,  8312,  8540,    13,   314]])"
            ]
          },
          "metadata": {
            "tags": []
          },
          "execution_count": 12
        }
      ]
    },
    {
      "cell_type": "markdown",
      "metadata": {
        "id": "P_7NrW7LRm_0"
      },
      "source": [
        "#4. output predictions"
      ]
    },
    {
      "cell_type": "code",
      "metadata": {
        "id": "s9_KaY3IRmKp",
        "colab": {
          "base_uri": "https://localhost:8080/",
          "height": 54
        },
        "outputId": "200b8f50-7556-4551-b37b-c8b573eb005f"
      },
      "source": [
        "tokenizer.decode(output[0], skip_special_tokens=True)"
      ],
      "execution_count": 13,
      "outputs": [
        {
          "output_type": "execute_result",
          "data": {
            "application/vnd.google.colaboratory.intrinsic+json": {
              "type": "string"
            },
            "text/plain": [
              "'Erion Tsani 15/06/2002 Levadia Greece, where do I live: Athens, Greece\\n\\nI live in Athens, Greece. I am a Greek citizen. I am a member of the Greek parliament. I am a member of the Greek parliament. I'"
            ]
          },
          "metadata": {
            "tags": []
          },
          "execution_count": 13
        }
      ]
    },
    {
      "cell_type": "code",
      "metadata": {
        "id": "1BvrbB3NWZUe",
        "colab": {
          "base_uri": "https://localhost:8080/",
          "height": 35
        },
        "outputId": "707b8479-c4a8-4b34-86c8-c665a23adf59"
      },
      "source": [
        "# output only the Answer\n",
        "tokenizer.decode(output[0][input_len:], skip_special_tokens=True)"
      ],
      "execution_count": 14,
      "outputs": [
        {
          "output_type": "execute_result",
          "data": {
            "application/vnd.google.colaboratory.intrinsic+json": {
              "type": "string"
            },
            "text/plain": [
              "' Athens, Greece\\n\\nI live in Athens, Greece. I am a Greek citizen. I am a member of the Greek parliament. I am a member of the Greek parliament. I'"
            ]
          },
          "metadata": {
            "tags": []
          },
          "execution_count": 14
        }
      ]
    },
    {
      "cell_type": "code",
      "metadata": {
        "id": "m8fLONYZ6Qke"
      },
      "source": [
        ""
      ],
      "execution_count": 68,
      "outputs": []
    }
  ]
}