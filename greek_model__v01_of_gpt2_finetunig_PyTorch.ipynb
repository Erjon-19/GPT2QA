{
  "nbformat": 4,
  "nbformat_minor": 0,
  "metadata": {
    "colab": {
      "name": "greek_model__v01_of_gpt2_finetunig_PyTorch.ipynb",
      "provenance": [],
      "collapsed_sections": []
    },
    "kernelspec": {
      "name": "python3",
      "display_name": "Python 3"
    },
    "language_info": {
      "name": "python"
    },
    "widgets": {
      "application/vnd.jupyter.widget-state+json": {
        "7a182f9342b94d9d8a7dc5eed25511ee": {
          "model_module": "@jupyter-widgets/controls",
          "model_name": "HBoxModel",
          "state": {
            "_view_name": "HBoxView",
            "_dom_classes": [],
            "_model_name": "HBoxModel",
            "_view_module": "@jupyter-widgets/controls",
            "_model_module_version": "1.5.0",
            "_view_count": null,
            "_view_module_version": "1.5.0",
            "box_style": "",
            "layout": "IPY_MODEL_a630f5260d8e44e39b2c736c6f0c64df",
            "_model_module": "@jupyter-widgets/controls",
            "children": [
              "IPY_MODEL_e3c06da99d344c9ab75dd88b252825a9",
              "IPY_MODEL_b082052cf3c144959f99acccefe65005"
            ]
          }
        },
        "a630f5260d8e44e39b2c736c6f0c64df": {
          "model_module": "@jupyter-widgets/base",
          "model_name": "LayoutModel",
          "state": {
            "_view_name": "LayoutView",
            "grid_template_rows": null,
            "right": null,
            "justify_content": null,
            "_view_module": "@jupyter-widgets/base",
            "overflow": null,
            "_model_module_version": "1.2.0",
            "_view_count": null,
            "flex_flow": null,
            "width": null,
            "min_width": null,
            "border": null,
            "align_items": null,
            "bottom": null,
            "_model_module": "@jupyter-widgets/base",
            "top": null,
            "grid_column": null,
            "overflow_y": null,
            "overflow_x": null,
            "grid_auto_flow": null,
            "grid_area": null,
            "grid_template_columns": null,
            "flex": null,
            "_model_name": "LayoutModel",
            "justify_items": null,
            "grid_row": null,
            "max_height": null,
            "align_content": null,
            "visibility": null,
            "align_self": null,
            "height": null,
            "min_height": null,
            "padding": null,
            "grid_auto_rows": null,
            "grid_gap": null,
            "max_width": null,
            "order": null,
            "_view_module_version": "1.2.0",
            "grid_template_areas": null,
            "object_position": null,
            "object_fit": null,
            "grid_auto_columns": null,
            "margin": null,
            "display": null,
            "left": null
          }
        },
        "e3c06da99d344c9ab75dd88b252825a9": {
          "model_module": "@jupyter-widgets/controls",
          "model_name": "FloatProgressModel",
          "state": {
            "_view_name": "ProgressView",
            "style": "IPY_MODEL_422f0adbf0df4367831454ad8973f2bb",
            "_dom_classes": [],
            "description": "Downloading: 100%",
            "_model_name": "FloatProgressModel",
            "bar_style": "success",
            "max": 1042301,
            "_view_module": "@jupyter-widgets/controls",
            "_model_module_version": "1.5.0",
            "value": 1042301,
            "_view_count": null,
            "_view_module_version": "1.5.0",
            "orientation": "horizontal",
            "min": 0,
            "description_tooltip": null,
            "_model_module": "@jupyter-widgets/controls",
            "layout": "IPY_MODEL_0d312aea65fe428d9958f013eba3d868"
          }
        },
        "b082052cf3c144959f99acccefe65005": {
          "model_module": "@jupyter-widgets/controls",
          "model_name": "HTMLModel",
          "state": {
            "_view_name": "HTMLView",
            "style": "IPY_MODEL_6a6ded50dfc54cb6ab0724f37e112253",
            "_dom_classes": [],
            "description": "",
            "_model_name": "HTMLModel",
            "placeholder": "​",
            "_view_module": "@jupyter-widgets/controls",
            "_model_module_version": "1.5.0",
            "value": " 1.04M/1.04M [00:02&lt;00:00, 360kB/s]",
            "_view_count": null,
            "_view_module_version": "1.5.0",
            "description_tooltip": null,
            "_model_module": "@jupyter-widgets/controls",
            "layout": "IPY_MODEL_df4ce61e151d4c5a82c3110d0e52c491"
          }
        },
        "422f0adbf0df4367831454ad8973f2bb": {
          "model_module": "@jupyter-widgets/controls",
          "model_name": "ProgressStyleModel",
          "state": {
            "_view_name": "StyleView",
            "_model_name": "ProgressStyleModel",
            "description_width": "initial",
            "_view_module": "@jupyter-widgets/base",
            "_model_module_version": "1.5.0",
            "_view_count": null,
            "_view_module_version": "1.2.0",
            "bar_color": null,
            "_model_module": "@jupyter-widgets/controls"
          }
        },
        "0d312aea65fe428d9958f013eba3d868": {
          "model_module": "@jupyter-widgets/base",
          "model_name": "LayoutModel",
          "state": {
            "_view_name": "LayoutView",
            "grid_template_rows": null,
            "right": null,
            "justify_content": null,
            "_view_module": "@jupyter-widgets/base",
            "overflow": null,
            "_model_module_version": "1.2.0",
            "_view_count": null,
            "flex_flow": null,
            "width": null,
            "min_width": null,
            "border": null,
            "align_items": null,
            "bottom": null,
            "_model_module": "@jupyter-widgets/base",
            "top": null,
            "grid_column": null,
            "overflow_y": null,
            "overflow_x": null,
            "grid_auto_flow": null,
            "grid_area": null,
            "grid_template_columns": null,
            "flex": null,
            "_model_name": "LayoutModel",
            "justify_items": null,
            "grid_row": null,
            "max_height": null,
            "align_content": null,
            "visibility": null,
            "align_self": null,
            "height": null,
            "min_height": null,
            "padding": null,
            "grid_auto_rows": null,
            "grid_gap": null,
            "max_width": null,
            "order": null,
            "_view_module_version": "1.2.0",
            "grid_template_areas": null,
            "object_position": null,
            "object_fit": null,
            "grid_auto_columns": null,
            "margin": null,
            "display": null,
            "left": null
          }
        },
        "6a6ded50dfc54cb6ab0724f37e112253": {
          "model_module": "@jupyter-widgets/controls",
          "model_name": "DescriptionStyleModel",
          "state": {
            "_view_name": "StyleView",
            "_model_name": "DescriptionStyleModel",
            "description_width": "",
            "_view_module": "@jupyter-widgets/base",
            "_model_module_version": "1.5.0",
            "_view_count": null,
            "_view_module_version": "1.2.0",
            "_model_module": "@jupyter-widgets/controls"
          }
        },
        "df4ce61e151d4c5a82c3110d0e52c491": {
          "model_module": "@jupyter-widgets/base",
          "model_name": "LayoutModel",
          "state": {
            "_view_name": "LayoutView",
            "grid_template_rows": null,
            "right": null,
            "justify_content": null,
            "_view_module": "@jupyter-widgets/base",
            "overflow": null,
            "_model_module_version": "1.2.0",
            "_view_count": null,
            "flex_flow": null,
            "width": null,
            "min_width": null,
            "border": null,
            "align_items": null,
            "bottom": null,
            "_model_module": "@jupyter-widgets/base",
            "top": null,
            "grid_column": null,
            "overflow_y": null,
            "overflow_x": null,
            "grid_auto_flow": null,
            "grid_area": null,
            "grid_template_columns": null,
            "flex": null,
            "_model_name": "LayoutModel",
            "justify_items": null,
            "grid_row": null,
            "max_height": null,
            "align_content": null,
            "visibility": null,
            "align_self": null,
            "height": null,
            "min_height": null,
            "padding": null,
            "grid_auto_rows": null,
            "grid_gap": null,
            "max_width": null,
            "order": null,
            "_view_module_version": "1.2.0",
            "grid_template_areas": null,
            "object_position": null,
            "object_fit": null,
            "grid_auto_columns": null,
            "margin": null,
            "display": null,
            "left": null
          }
        },
        "74e4a8847880408990c08be0e4166df8": {
          "model_module": "@jupyter-widgets/controls",
          "model_name": "HBoxModel",
          "state": {
            "_view_name": "HBoxView",
            "_dom_classes": [],
            "_model_name": "HBoxModel",
            "_view_module": "@jupyter-widgets/controls",
            "_model_module_version": "1.5.0",
            "_view_count": null,
            "_view_module_version": "1.5.0",
            "box_style": "",
            "layout": "IPY_MODEL_a9a6cc447eec4ebdbc10b6f65f2cf314",
            "_model_module": "@jupyter-widgets/controls",
            "children": [
              "IPY_MODEL_0162228ccdb24e969480aae05ee731be",
              "IPY_MODEL_415bf57afe184265959f438c266fd30f"
            ]
          }
        },
        "a9a6cc447eec4ebdbc10b6f65f2cf314": {
          "model_module": "@jupyter-widgets/base",
          "model_name": "LayoutModel",
          "state": {
            "_view_name": "LayoutView",
            "grid_template_rows": null,
            "right": null,
            "justify_content": null,
            "_view_module": "@jupyter-widgets/base",
            "overflow": null,
            "_model_module_version": "1.2.0",
            "_view_count": null,
            "flex_flow": null,
            "width": null,
            "min_width": null,
            "border": null,
            "align_items": null,
            "bottom": null,
            "_model_module": "@jupyter-widgets/base",
            "top": null,
            "grid_column": null,
            "overflow_y": null,
            "overflow_x": null,
            "grid_auto_flow": null,
            "grid_area": null,
            "grid_template_columns": null,
            "flex": null,
            "_model_name": "LayoutModel",
            "justify_items": null,
            "grid_row": null,
            "max_height": null,
            "align_content": null,
            "visibility": null,
            "align_self": null,
            "height": null,
            "min_height": null,
            "padding": null,
            "grid_auto_rows": null,
            "grid_gap": null,
            "max_width": null,
            "order": null,
            "_view_module_version": "1.2.0",
            "grid_template_areas": null,
            "object_position": null,
            "object_fit": null,
            "grid_auto_columns": null,
            "margin": null,
            "display": null,
            "left": null
          }
        },
        "0162228ccdb24e969480aae05ee731be": {
          "model_module": "@jupyter-widgets/controls",
          "model_name": "FloatProgressModel",
          "state": {
            "_view_name": "ProgressView",
            "style": "IPY_MODEL_594b1eb6d53147b79085a1499ef68019",
            "_dom_classes": [],
            "description": "Downloading: 100%",
            "_model_name": "FloatProgressModel",
            "bar_style": "success",
            "max": 456318,
            "_view_module": "@jupyter-widgets/controls",
            "_model_module_version": "1.5.0",
            "value": 456318,
            "_view_count": null,
            "_view_module_version": "1.5.0",
            "orientation": "horizontal",
            "min": 0,
            "description_tooltip": null,
            "_model_module": "@jupyter-widgets/controls",
            "layout": "IPY_MODEL_1d000c312d084a8a888f830fce5cc123"
          }
        },
        "415bf57afe184265959f438c266fd30f": {
          "model_module": "@jupyter-widgets/controls",
          "model_name": "HTMLModel",
          "state": {
            "_view_name": "HTMLView",
            "style": "IPY_MODEL_b52cb29d74e94a83ae844afee7bcacc0",
            "_dom_classes": [],
            "description": "",
            "_model_name": "HTMLModel",
            "placeholder": "​",
            "_view_module": "@jupyter-widgets/controls",
            "_model_module_version": "1.5.0",
            "value": " 456k/456k [00:01&lt;00:00, 229kB/s]",
            "_view_count": null,
            "_view_module_version": "1.5.0",
            "description_tooltip": null,
            "_model_module": "@jupyter-widgets/controls",
            "layout": "IPY_MODEL_99e7952db4344a2aba45e8e0f32e2787"
          }
        },
        "594b1eb6d53147b79085a1499ef68019": {
          "model_module": "@jupyter-widgets/controls",
          "model_name": "ProgressStyleModel",
          "state": {
            "_view_name": "StyleView",
            "_model_name": "ProgressStyleModel",
            "description_width": "initial",
            "_view_module": "@jupyter-widgets/base",
            "_model_module_version": "1.5.0",
            "_view_count": null,
            "_view_module_version": "1.2.0",
            "bar_color": null,
            "_model_module": "@jupyter-widgets/controls"
          }
        },
        "1d000c312d084a8a888f830fce5cc123": {
          "model_module": "@jupyter-widgets/base",
          "model_name": "LayoutModel",
          "state": {
            "_view_name": "LayoutView",
            "grid_template_rows": null,
            "right": null,
            "justify_content": null,
            "_view_module": "@jupyter-widgets/base",
            "overflow": null,
            "_model_module_version": "1.2.0",
            "_view_count": null,
            "flex_flow": null,
            "width": null,
            "min_width": null,
            "border": null,
            "align_items": null,
            "bottom": null,
            "_model_module": "@jupyter-widgets/base",
            "top": null,
            "grid_column": null,
            "overflow_y": null,
            "overflow_x": null,
            "grid_auto_flow": null,
            "grid_area": null,
            "grid_template_columns": null,
            "flex": null,
            "_model_name": "LayoutModel",
            "justify_items": null,
            "grid_row": null,
            "max_height": null,
            "align_content": null,
            "visibility": null,
            "align_self": null,
            "height": null,
            "min_height": null,
            "padding": null,
            "grid_auto_rows": null,
            "grid_gap": null,
            "max_width": null,
            "order": null,
            "_view_module_version": "1.2.0",
            "grid_template_areas": null,
            "object_position": null,
            "object_fit": null,
            "grid_auto_columns": null,
            "margin": null,
            "display": null,
            "left": null
          }
        },
        "b52cb29d74e94a83ae844afee7bcacc0": {
          "model_module": "@jupyter-widgets/controls",
          "model_name": "DescriptionStyleModel",
          "state": {
            "_view_name": "StyleView",
            "_model_name": "DescriptionStyleModel",
            "description_width": "",
            "_view_module": "@jupyter-widgets/base",
            "_model_module_version": "1.5.0",
            "_view_count": null,
            "_view_module_version": "1.2.0",
            "_model_module": "@jupyter-widgets/controls"
          }
        },
        "99e7952db4344a2aba45e8e0f32e2787": {
          "model_module": "@jupyter-widgets/base",
          "model_name": "LayoutModel",
          "state": {
            "_view_name": "LayoutView",
            "grid_template_rows": null,
            "right": null,
            "justify_content": null,
            "_view_module": "@jupyter-widgets/base",
            "overflow": null,
            "_model_module_version": "1.2.0",
            "_view_count": null,
            "flex_flow": null,
            "width": null,
            "min_width": null,
            "border": null,
            "align_items": null,
            "bottom": null,
            "_model_module": "@jupyter-widgets/base",
            "top": null,
            "grid_column": null,
            "overflow_y": null,
            "overflow_x": null,
            "grid_auto_flow": null,
            "grid_area": null,
            "grid_template_columns": null,
            "flex": null,
            "_model_name": "LayoutModel",
            "justify_items": null,
            "grid_row": null,
            "max_height": null,
            "align_content": null,
            "visibility": null,
            "align_self": null,
            "height": null,
            "min_height": null,
            "padding": null,
            "grid_auto_rows": null,
            "grid_gap": null,
            "max_width": null,
            "order": null,
            "_view_module_version": "1.2.0",
            "grid_template_areas": null,
            "object_position": null,
            "object_fit": null,
            "grid_auto_columns": null,
            "margin": null,
            "display": null,
            "left": null
          }
        },
        "055d12f2b7784388ad61edcbadcae266": {
          "model_module": "@jupyter-widgets/controls",
          "model_name": "HBoxModel",
          "state": {
            "_view_name": "HBoxView",
            "_dom_classes": [],
            "_model_name": "HBoxModel",
            "_view_module": "@jupyter-widgets/controls",
            "_model_module_version": "1.5.0",
            "_view_count": null,
            "_view_module_version": "1.5.0",
            "box_style": "",
            "layout": "IPY_MODEL_7f14c56ea4be4f8bbb8527271e8ab3c4",
            "_model_module": "@jupyter-widgets/controls",
            "children": [
              "IPY_MODEL_b051f385a52d417cb1ee370ee43366a9",
              "IPY_MODEL_b8dddfe00a8c4833b61a622f6ff51b40"
            ]
          }
        },
        "7f14c56ea4be4f8bbb8527271e8ab3c4": {
          "model_module": "@jupyter-widgets/base",
          "model_name": "LayoutModel",
          "state": {
            "_view_name": "LayoutView",
            "grid_template_rows": null,
            "right": null,
            "justify_content": null,
            "_view_module": "@jupyter-widgets/base",
            "overflow": null,
            "_model_module_version": "1.2.0",
            "_view_count": null,
            "flex_flow": null,
            "width": null,
            "min_width": null,
            "border": null,
            "align_items": null,
            "bottom": null,
            "_model_module": "@jupyter-widgets/base",
            "top": null,
            "grid_column": null,
            "overflow_y": null,
            "overflow_x": null,
            "grid_auto_flow": null,
            "grid_area": null,
            "grid_template_columns": null,
            "flex": null,
            "_model_name": "LayoutModel",
            "justify_items": null,
            "grid_row": null,
            "max_height": null,
            "align_content": null,
            "visibility": null,
            "align_self": null,
            "height": null,
            "min_height": null,
            "padding": null,
            "grid_auto_rows": null,
            "grid_gap": null,
            "max_width": null,
            "order": null,
            "_view_module_version": "1.2.0",
            "grid_template_areas": null,
            "object_position": null,
            "object_fit": null,
            "grid_auto_columns": null,
            "margin": null,
            "display": null,
            "left": null
          }
        },
        "b051f385a52d417cb1ee370ee43366a9": {
          "model_module": "@jupyter-widgets/controls",
          "model_name": "FloatProgressModel",
          "state": {
            "_view_name": "ProgressView",
            "style": "IPY_MODEL_f1f06676e3ad4d60877b8b36f2080876",
            "_dom_classes": [],
            "description": "Downloading: 100%",
            "_model_name": "FloatProgressModel",
            "bar_style": "success",
            "max": 1355256,
            "_view_module": "@jupyter-widgets/controls",
            "_model_module_version": "1.5.0",
            "value": 1355256,
            "_view_count": null,
            "_view_module_version": "1.5.0",
            "orientation": "horizontal",
            "min": 0,
            "description_tooltip": null,
            "_model_module": "@jupyter-widgets/controls",
            "layout": "IPY_MODEL_f3b2477f561043f7b8a7750593c7bdba"
          }
        },
        "b8dddfe00a8c4833b61a622f6ff51b40": {
          "model_module": "@jupyter-widgets/controls",
          "model_name": "HTMLModel",
          "state": {
            "_view_name": "HTMLView",
            "style": "IPY_MODEL_664be3fffc5c432b92e3b0879fc41b3b",
            "_dom_classes": [],
            "description": "",
            "_model_name": "HTMLModel",
            "placeholder": "​",
            "_view_module": "@jupyter-widgets/controls",
            "_model_module_version": "1.5.0",
            "value": " 1.36M/1.36M [00:00&lt;00:00, 4.93MB/s]",
            "_view_count": null,
            "_view_module_version": "1.5.0",
            "description_tooltip": null,
            "_model_module": "@jupyter-widgets/controls",
            "layout": "IPY_MODEL_788bf526d17d4216bf9dc980f4411523"
          }
        },
        "f1f06676e3ad4d60877b8b36f2080876": {
          "model_module": "@jupyter-widgets/controls",
          "model_name": "ProgressStyleModel",
          "state": {
            "_view_name": "StyleView",
            "_model_name": "ProgressStyleModel",
            "description_width": "initial",
            "_view_module": "@jupyter-widgets/base",
            "_model_module_version": "1.5.0",
            "_view_count": null,
            "_view_module_version": "1.2.0",
            "bar_color": null,
            "_model_module": "@jupyter-widgets/controls"
          }
        },
        "f3b2477f561043f7b8a7750593c7bdba": {
          "model_module": "@jupyter-widgets/base",
          "model_name": "LayoutModel",
          "state": {
            "_view_name": "LayoutView",
            "grid_template_rows": null,
            "right": null,
            "justify_content": null,
            "_view_module": "@jupyter-widgets/base",
            "overflow": null,
            "_model_module_version": "1.2.0",
            "_view_count": null,
            "flex_flow": null,
            "width": null,
            "min_width": null,
            "border": null,
            "align_items": null,
            "bottom": null,
            "_model_module": "@jupyter-widgets/base",
            "top": null,
            "grid_column": null,
            "overflow_y": null,
            "overflow_x": null,
            "grid_auto_flow": null,
            "grid_area": null,
            "grid_template_columns": null,
            "flex": null,
            "_model_name": "LayoutModel",
            "justify_items": null,
            "grid_row": null,
            "max_height": null,
            "align_content": null,
            "visibility": null,
            "align_self": null,
            "height": null,
            "min_height": null,
            "padding": null,
            "grid_auto_rows": null,
            "grid_gap": null,
            "max_width": null,
            "order": null,
            "_view_module_version": "1.2.0",
            "grid_template_areas": null,
            "object_position": null,
            "object_fit": null,
            "grid_auto_columns": null,
            "margin": null,
            "display": null,
            "left": null
          }
        },
        "664be3fffc5c432b92e3b0879fc41b3b": {
          "model_module": "@jupyter-widgets/controls",
          "model_name": "DescriptionStyleModel",
          "state": {
            "_view_name": "StyleView",
            "_model_name": "DescriptionStyleModel",
            "description_width": "",
            "_view_module": "@jupyter-widgets/base",
            "_model_module_version": "1.5.0",
            "_view_count": null,
            "_view_module_version": "1.2.0",
            "_model_module": "@jupyter-widgets/controls"
          }
        },
        "788bf526d17d4216bf9dc980f4411523": {
          "model_module": "@jupyter-widgets/base",
          "model_name": "LayoutModel",
          "state": {
            "_view_name": "LayoutView",
            "grid_template_rows": null,
            "right": null,
            "justify_content": null,
            "_view_module": "@jupyter-widgets/base",
            "overflow": null,
            "_model_module_version": "1.2.0",
            "_view_count": null,
            "flex_flow": null,
            "width": null,
            "min_width": null,
            "border": null,
            "align_items": null,
            "bottom": null,
            "_model_module": "@jupyter-widgets/base",
            "top": null,
            "grid_column": null,
            "overflow_y": null,
            "overflow_x": null,
            "grid_auto_flow": null,
            "grid_area": null,
            "grid_template_columns": null,
            "flex": null,
            "_model_name": "LayoutModel",
            "justify_items": null,
            "grid_row": null,
            "max_height": null,
            "align_content": null,
            "visibility": null,
            "align_self": null,
            "height": null,
            "min_height": null,
            "padding": null,
            "grid_auto_rows": null,
            "grid_gap": null,
            "max_width": null,
            "order": null,
            "_view_module_version": "1.2.0",
            "grid_template_areas": null,
            "object_position": null,
            "object_fit": null,
            "grid_auto_columns": null,
            "margin": null,
            "display": null,
            "left": null
          }
        },
        "1384a083351c44b5b6132469cf969d14": {
          "model_module": "@jupyter-widgets/controls",
          "model_name": "HBoxModel",
          "state": {
            "_view_name": "HBoxView",
            "_dom_classes": [],
            "_model_name": "HBoxModel",
            "_view_module": "@jupyter-widgets/controls",
            "_model_module_version": "1.5.0",
            "_view_count": null,
            "_view_module_version": "1.5.0",
            "box_style": "",
            "layout": "IPY_MODEL_5756f230475845a68d4356db4df0080f",
            "_model_module": "@jupyter-widgets/controls",
            "children": [
              "IPY_MODEL_79cee4caedda44cb854c3c597b11739c",
              "IPY_MODEL_cb2cf74d70fd4fffbccf61f0e1448cc1"
            ]
          }
        },
        "5756f230475845a68d4356db4df0080f": {
          "model_module": "@jupyter-widgets/base",
          "model_name": "LayoutModel",
          "state": {
            "_view_name": "LayoutView",
            "grid_template_rows": null,
            "right": null,
            "justify_content": null,
            "_view_module": "@jupyter-widgets/base",
            "overflow": null,
            "_model_module_version": "1.2.0",
            "_view_count": null,
            "flex_flow": null,
            "width": null,
            "min_width": null,
            "border": null,
            "align_items": null,
            "bottom": null,
            "_model_module": "@jupyter-widgets/base",
            "top": null,
            "grid_column": null,
            "overflow_y": null,
            "overflow_x": null,
            "grid_auto_flow": null,
            "grid_area": null,
            "grid_template_columns": null,
            "flex": null,
            "_model_name": "LayoutModel",
            "justify_items": null,
            "grid_row": null,
            "max_height": null,
            "align_content": null,
            "visibility": null,
            "align_self": null,
            "height": null,
            "min_height": null,
            "padding": null,
            "grid_auto_rows": null,
            "grid_gap": null,
            "max_width": null,
            "order": null,
            "_view_module_version": "1.2.0",
            "grid_template_areas": null,
            "object_position": null,
            "object_fit": null,
            "grid_auto_columns": null,
            "margin": null,
            "display": null,
            "left": null
          }
        },
        "79cee4caedda44cb854c3c597b11739c": {
          "model_module": "@jupyter-widgets/controls",
          "model_name": "FloatProgressModel",
          "state": {
            "_view_name": "ProgressView",
            "style": "IPY_MODEL_3bb04b898d184d6696937a1c3eadbbf1",
            "_dom_classes": [],
            "description": "Downloading: 100%",
            "_model_name": "FloatProgressModel",
            "bar_style": "success",
            "max": 665,
            "_view_module": "@jupyter-widgets/controls",
            "_model_module_version": "1.5.0",
            "value": 665,
            "_view_count": null,
            "_view_module_version": "1.5.0",
            "orientation": "horizontal",
            "min": 0,
            "description_tooltip": null,
            "_model_module": "@jupyter-widgets/controls",
            "layout": "IPY_MODEL_1097ff23c90f462f9178cb763a8895b8"
          }
        },
        "cb2cf74d70fd4fffbccf61f0e1448cc1": {
          "model_module": "@jupyter-widgets/controls",
          "model_name": "HTMLModel",
          "state": {
            "_view_name": "HTMLView",
            "style": "IPY_MODEL_cdd35a226d1643c1b023050a377d1a70",
            "_dom_classes": [],
            "description": "",
            "_model_name": "HTMLModel",
            "placeholder": "​",
            "_view_module": "@jupyter-widgets/controls",
            "_model_module_version": "1.5.0",
            "value": " 665/665 [00:00&lt;00:00, 14.6kB/s]",
            "_view_count": null,
            "_view_module_version": "1.5.0",
            "description_tooltip": null,
            "_model_module": "@jupyter-widgets/controls",
            "layout": "IPY_MODEL_9a3ce5bd2c8041cdbbea3aec89fdefcc"
          }
        },
        "3bb04b898d184d6696937a1c3eadbbf1": {
          "model_module": "@jupyter-widgets/controls",
          "model_name": "ProgressStyleModel",
          "state": {
            "_view_name": "StyleView",
            "_model_name": "ProgressStyleModel",
            "description_width": "initial",
            "_view_module": "@jupyter-widgets/base",
            "_model_module_version": "1.5.0",
            "_view_count": null,
            "_view_module_version": "1.2.0",
            "bar_color": null,
            "_model_module": "@jupyter-widgets/controls"
          }
        },
        "1097ff23c90f462f9178cb763a8895b8": {
          "model_module": "@jupyter-widgets/base",
          "model_name": "LayoutModel",
          "state": {
            "_view_name": "LayoutView",
            "grid_template_rows": null,
            "right": null,
            "justify_content": null,
            "_view_module": "@jupyter-widgets/base",
            "overflow": null,
            "_model_module_version": "1.2.0",
            "_view_count": null,
            "flex_flow": null,
            "width": null,
            "min_width": null,
            "border": null,
            "align_items": null,
            "bottom": null,
            "_model_module": "@jupyter-widgets/base",
            "top": null,
            "grid_column": null,
            "overflow_y": null,
            "overflow_x": null,
            "grid_auto_flow": null,
            "grid_area": null,
            "grid_template_columns": null,
            "flex": null,
            "_model_name": "LayoutModel",
            "justify_items": null,
            "grid_row": null,
            "max_height": null,
            "align_content": null,
            "visibility": null,
            "align_self": null,
            "height": null,
            "min_height": null,
            "padding": null,
            "grid_auto_rows": null,
            "grid_gap": null,
            "max_width": null,
            "order": null,
            "_view_module_version": "1.2.0",
            "grid_template_areas": null,
            "object_position": null,
            "object_fit": null,
            "grid_auto_columns": null,
            "margin": null,
            "display": null,
            "left": null
          }
        },
        "cdd35a226d1643c1b023050a377d1a70": {
          "model_module": "@jupyter-widgets/controls",
          "model_name": "DescriptionStyleModel",
          "state": {
            "_view_name": "StyleView",
            "_model_name": "DescriptionStyleModel",
            "description_width": "",
            "_view_module": "@jupyter-widgets/base",
            "_model_module_version": "1.5.0",
            "_view_count": null,
            "_view_module_version": "1.2.0",
            "_model_module": "@jupyter-widgets/controls"
          }
        },
        "9a3ce5bd2c8041cdbbea3aec89fdefcc": {
          "model_module": "@jupyter-widgets/base",
          "model_name": "LayoutModel",
          "state": {
            "_view_name": "LayoutView",
            "grid_template_rows": null,
            "right": null,
            "justify_content": null,
            "_view_module": "@jupyter-widgets/base",
            "overflow": null,
            "_model_module_version": "1.2.0",
            "_view_count": null,
            "flex_flow": null,
            "width": null,
            "min_width": null,
            "border": null,
            "align_items": null,
            "bottom": null,
            "_model_module": "@jupyter-widgets/base",
            "top": null,
            "grid_column": null,
            "overflow_y": null,
            "overflow_x": null,
            "grid_auto_flow": null,
            "grid_area": null,
            "grid_template_columns": null,
            "flex": null,
            "_model_name": "LayoutModel",
            "justify_items": null,
            "grid_row": null,
            "max_height": null,
            "align_content": null,
            "visibility": null,
            "align_self": null,
            "height": null,
            "min_height": null,
            "padding": null,
            "grid_auto_rows": null,
            "grid_gap": null,
            "max_width": null,
            "order": null,
            "_view_module_version": "1.2.0",
            "grid_template_areas": null,
            "object_position": null,
            "object_fit": null,
            "grid_auto_columns": null,
            "margin": null,
            "display": null,
            "left": null
          }
        },
        "b6f531178f7843b0981cf18ca638d66e": {
          "model_module": "@jupyter-widgets/controls",
          "model_name": "HBoxModel",
          "state": {
            "_view_name": "HBoxView",
            "_dom_classes": [],
            "_model_name": "HBoxModel",
            "_view_module": "@jupyter-widgets/controls",
            "_model_module_version": "1.5.0",
            "_view_count": null,
            "_view_module_version": "1.5.0",
            "box_style": "",
            "layout": "IPY_MODEL_84b19ea5a8174d7d8f6aea65c1c01039",
            "_model_module": "@jupyter-widgets/controls",
            "children": [
              "IPY_MODEL_8ad8952a4b2644268062727deb6d9e4d",
              "IPY_MODEL_19cf9241453e4db796c789bde2fa15a3"
            ]
          }
        },
        "84b19ea5a8174d7d8f6aea65c1c01039": {
          "model_module": "@jupyter-widgets/base",
          "model_name": "LayoutModel",
          "state": {
            "_view_name": "LayoutView",
            "grid_template_rows": null,
            "right": null,
            "justify_content": null,
            "_view_module": "@jupyter-widgets/base",
            "overflow": null,
            "_model_module_version": "1.2.0",
            "_view_count": null,
            "flex_flow": null,
            "width": null,
            "min_width": null,
            "border": null,
            "align_items": null,
            "bottom": null,
            "_model_module": "@jupyter-widgets/base",
            "top": null,
            "grid_column": null,
            "overflow_y": null,
            "overflow_x": null,
            "grid_auto_flow": null,
            "grid_area": null,
            "grid_template_columns": null,
            "flex": null,
            "_model_name": "LayoutModel",
            "justify_items": null,
            "grid_row": null,
            "max_height": null,
            "align_content": null,
            "visibility": null,
            "align_self": null,
            "height": null,
            "min_height": null,
            "padding": null,
            "grid_auto_rows": null,
            "grid_gap": null,
            "max_width": null,
            "order": null,
            "_view_module_version": "1.2.0",
            "grid_template_areas": null,
            "object_position": null,
            "object_fit": null,
            "grid_auto_columns": null,
            "margin": null,
            "display": null,
            "left": null
          }
        },
        "8ad8952a4b2644268062727deb6d9e4d": {
          "model_module": "@jupyter-widgets/controls",
          "model_name": "FloatProgressModel",
          "state": {
            "_view_name": "ProgressView",
            "style": "IPY_MODEL_c8b4c12dce8d4080a6e099e3e7db5a92",
            "_dom_classes": [],
            "description": "Downloading: 100%",
            "_model_name": "FloatProgressModel",
            "bar_style": "success",
            "max": 548118077,
            "_view_module": "@jupyter-widgets/controls",
            "_model_module_version": "1.5.0",
            "value": 548118077,
            "_view_count": null,
            "_view_module_version": "1.5.0",
            "orientation": "horizontal",
            "min": 0,
            "description_tooltip": null,
            "_model_module": "@jupyter-widgets/controls",
            "layout": "IPY_MODEL_e5fffc0af7ca4a24aca739faa2332589"
          }
        },
        "19cf9241453e4db796c789bde2fa15a3": {
          "model_module": "@jupyter-widgets/controls",
          "model_name": "HTMLModel",
          "state": {
            "_view_name": "HTMLView",
            "style": "IPY_MODEL_e36b7167214b46e598b75178f90a1ebb",
            "_dom_classes": [],
            "description": "",
            "_model_name": "HTMLModel",
            "placeholder": "​",
            "_view_module": "@jupyter-widgets/controls",
            "_model_module_version": "1.5.0",
            "value": " 548M/548M [1:19:32&lt;00:00, 115kB/s]",
            "_view_count": null,
            "_view_module_version": "1.5.0",
            "description_tooltip": null,
            "_model_module": "@jupyter-widgets/controls",
            "layout": "IPY_MODEL_2b12b78a99694567995a3fe102b26d08"
          }
        },
        "c8b4c12dce8d4080a6e099e3e7db5a92": {
          "model_module": "@jupyter-widgets/controls",
          "model_name": "ProgressStyleModel",
          "state": {
            "_view_name": "StyleView",
            "_model_name": "ProgressStyleModel",
            "description_width": "initial",
            "_view_module": "@jupyter-widgets/base",
            "_model_module_version": "1.5.0",
            "_view_count": null,
            "_view_module_version": "1.2.0",
            "bar_color": null,
            "_model_module": "@jupyter-widgets/controls"
          }
        },
        "e5fffc0af7ca4a24aca739faa2332589": {
          "model_module": "@jupyter-widgets/base",
          "model_name": "LayoutModel",
          "state": {
            "_view_name": "LayoutView",
            "grid_template_rows": null,
            "right": null,
            "justify_content": null,
            "_view_module": "@jupyter-widgets/base",
            "overflow": null,
            "_model_module_version": "1.2.0",
            "_view_count": null,
            "flex_flow": null,
            "width": null,
            "min_width": null,
            "border": null,
            "align_items": null,
            "bottom": null,
            "_model_module": "@jupyter-widgets/base",
            "top": null,
            "grid_column": null,
            "overflow_y": null,
            "overflow_x": null,
            "grid_auto_flow": null,
            "grid_area": null,
            "grid_template_columns": null,
            "flex": null,
            "_model_name": "LayoutModel",
            "justify_items": null,
            "grid_row": null,
            "max_height": null,
            "align_content": null,
            "visibility": null,
            "align_self": null,
            "height": null,
            "min_height": null,
            "padding": null,
            "grid_auto_rows": null,
            "grid_gap": null,
            "max_width": null,
            "order": null,
            "_view_module_version": "1.2.0",
            "grid_template_areas": null,
            "object_position": null,
            "object_fit": null,
            "grid_auto_columns": null,
            "margin": null,
            "display": null,
            "left": null
          }
        },
        "e36b7167214b46e598b75178f90a1ebb": {
          "model_module": "@jupyter-widgets/controls",
          "model_name": "DescriptionStyleModel",
          "state": {
            "_view_name": "StyleView",
            "_model_name": "DescriptionStyleModel",
            "description_width": "",
            "_view_module": "@jupyter-widgets/base",
            "_model_module_version": "1.5.0",
            "_view_count": null,
            "_view_module_version": "1.2.0",
            "_model_module": "@jupyter-widgets/controls"
          }
        },
        "2b12b78a99694567995a3fe102b26d08": {
          "model_module": "@jupyter-widgets/base",
          "model_name": "LayoutModel",
          "state": {
            "_view_name": "LayoutView",
            "grid_template_rows": null,
            "right": null,
            "justify_content": null,
            "_view_module": "@jupyter-widgets/base",
            "overflow": null,
            "_model_module_version": "1.2.0",
            "_view_count": null,
            "flex_flow": null,
            "width": null,
            "min_width": null,
            "border": null,
            "align_items": null,
            "bottom": null,
            "_model_module": "@jupyter-widgets/base",
            "top": null,
            "grid_column": null,
            "overflow_y": null,
            "overflow_x": null,
            "grid_auto_flow": null,
            "grid_area": null,
            "grid_template_columns": null,
            "flex": null,
            "_model_name": "LayoutModel",
            "justify_items": null,
            "grid_row": null,
            "max_height": null,
            "align_content": null,
            "visibility": null,
            "align_self": null,
            "height": null,
            "min_height": null,
            "padding": null,
            "grid_auto_rows": null,
            "grid_gap": null,
            "max_width": null,
            "order": null,
            "_view_module_version": "1.2.0",
            "grid_template_areas": null,
            "object_position": null,
            "object_fit": null,
            "grid_auto_columns": null,
            "margin": null,
            "display": null,
            "left": null
          }
        }
      }
    },
    "accelerator": "GPU"
  },
  "cells": [
    {
      "cell_type": "code",
      "metadata": {
        "id": "l7_R2AIGy1Ab",
        "colab": {
          "base_uri": "https://localhost:8080/"
        },
        "outputId": "77a5d6dd-1c60-4d5f-d4b4-22fd1cde8a97"
      },
      "source": [
        "!pip install transformers"
      ],
      "execution_count": 1,
      "outputs": [
        {
          "output_type": "stream",
          "text": [
            "Collecting transformers\n",
            "  Downloading transformers-4.9.1-py3-none-any.whl (2.6 MB)\n",
            "\u001b[K     |████████████████████████████████| 2.6 MB 7.7 MB/s \n",
            "\u001b[?25hRequirement already satisfied: numpy>=1.17 in /usr/local/lib/python3.7/dist-packages (from transformers) (1.19.5)\n",
            "Collecting pyyaml>=5.1\n",
            "  Downloading PyYAML-5.4.1-cp37-cp37m-manylinux1_x86_64.whl (636 kB)\n",
            "\u001b[K     |████████████████████████████████| 636 kB 68.5 MB/s \n",
            "\u001b[?25hCollecting tokenizers<0.11,>=0.10.1\n",
            "  Downloading tokenizers-0.10.3-cp37-cp37m-manylinux_2_5_x86_64.manylinux1_x86_64.manylinux_2_12_x86_64.manylinux2010_x86_64.whl (3.3 MB)\n",
            "\u001b[K     |████████████████████████████████| 3.3 MB 65.5 MB/s \n",
            "\u001b[?25hCollecting huggingface-hub==0.0.12\n",
            "  Downloading huggingface_hub-0.0.12-py3-none-any.whl (37 kB)\n",
            "Requirement already satisfied: tqdm>=4.27 in /usr/local/lib/python3.7/dist-packages (from transformers) (4.41.1)\n",
            "Collecting sacremoses\n",
            "  Downloading sacremoses-0.0.45-py3-none-any.whl (895 kB)\n",
            "\u001b[K     |████████████████████████████████| 895 kB 47.4 MB/s \n",
            "\u001b[?25hRequirement already satisfied: packaging in /usr/local/lib/python3.7/dist-packages (from transformers) (21.0)\n",
            "Requirement already satisfied: regex!=2019.12.17 in /usr/local/lib/python3.7/dist-packages (from transformers) (2019.12.20)\n",
            "Requirement already satisfied: filelock in /usr/local/lib/python3.7/dist-packages (from transformers) (3.0.12)\n",
            "Requirement already satisfied: requests in /usr/local/lib/python3.7/dist-packages (from transformers) (2.23.0)\n",
            "Requirement already satisfied: importlib-metadata in /usr/local/lib/python3.7/dist-packages (from transformers) (4.6.1)\n",
            "Requirement already satisfied: typing-extensions in /usr/local/lib/python3.7/dist-packages (from huggingface-hub==0.0.12->transformers) (3.7.4.3)\n",
            "Requirement already satisfied: pyparsing>=2.0.2 in /usr/local/lib/python3.7/dist-packages (from packaging->transformers) (2.4.7)\n",
            "Requirement already satisfied: zipp>=0.5 in /usr/local/lib/python3.7/dist-packages (from importlib-metadata->transformers) (3.5.0)\n",
            "Requirement already satisfied: certifi>=2017.4.17 in /usr/local/lib/python3.7/dist-packages (from requests->transformers) (2021.5.30)\n",
            "Requirement already satisfied: urllib3!=1.25.0,!=1.25.1,<1.26,>=1.21.1 in /usr/local/lib/python3.7/dist-packages (from requests->transformers) (1.24.3)\n",
            "Requirement already satisfied: chardet<4,>=3.0.2 in /usr/local/lib/python3.7/dist-packages (from requests->transformers) (3.0.4)\n",
            "Requirement already satisfied: idna<3,>=2.5 in /usr/local/lib/python3.7/dist-packages (from requests->transformers) (2.10)\n",
            "Requirement already satisfied: click in /usr/local/lib/python3.7/dist-packages (from sacremoses->transformers) (7.1.2)\n",
            "Requirement already satisfied: six in /usr/local/lib/python3.7/dist-packages (from sacremoses->transformers) (1.15.0)\n",
            "Requirement already satisfied: joblib in /usr/local/lib/python3.7/dist-packages (from sacremoses->transformers) (1.0.1)\n",
            "Installing collected packages: tokenizers, sacremoses, pyyaml, huggingface-hub, transformers\n",
            "  Attempting uninstall: pyyaml\n",
            "    Found existing installation: PyYAML 3.13\n",
            "    Uninstalling PyYAML-3.13:\n",
            "      Successfully uninstalled PyYAML-3.13\n",
            "Successfully installed huggingface-hub-0.0.12 pyyaml-5.4.1 sacremoses-0.0.45 tokenizers-0.10.3 transformers-4.9.1\n"
          ],
          "name": "stdout"
        }
      ]
    },
    {
      "cell_type": "code",
      "metadata": {
        "id": "5_wGdi-uy9Rz"
      },
      "source": [
        "import pandas as pd"
      ],
      "execution_count": 2,
      "outputs": []
    },
    {
      "cell_type": "markdown",
      "metadata": {
        "id": "S7tdYAXDRN3y"
      },
      "source": [
        "# 1. Get Data"
      ]
    },
    {
      "cell_type": "code",
      "metadata": {
        "id": "9LzYC5kkzOlL"
      },
      "source": [
        "# read from csv file \n",
        "greek_ids = pd.read_csv('greek_ids.csv')"
      ],
      "execution_count": 3,
      "outputs": []
    },
    {
      "cell_type": "code",
      "metadata": {
        "id": "YAplBh7yzVxt"
      },
      "source": [
        "# Drop columns with no information\n",
        "greek_ids = greek_ids.drop(['Unnamed: 0', 'Ύψος'], axis=1)"
      ],
      "execution_count": 4,
      "outputs": []
    },
    {
      "cell_type": "code",
      "metadata": {
        "id": "YKiaOawSzcAI"
      },
      "source": [
        "# convert it dictionary for easier \n",
        "dictQA= greek_ids.to_dict(orient = 'records')\n",
        "# Check records\n",
        "# dictQA[0]"
      ],
      "execution_count": 5,
      "outputs": []
    },
    {
      "cell_type": "markdown",
      "metadata": {
        "id": "RQPzaCl0R2vq"
      },
      "source": [
        "# 2. Format Data "
      ]
    },
    {
      "cell_type": "code",
      "metadata": {
        "id": "GGRtvQ91zgc7"
      },
      "source": [
        "# Proper Format of Data for Q.A. task\n",
        "# load all dataset to list object \n",
        "data = []\n",
        "\n",
        "for index in dictQA:\n",
        "    for k, v in index.items():\n",
        "      line = ' '.join(index.values()) + \", \"+ k+  \": \"+ v+ \"<|endoftext|>\"\n",
        "      data.append(line)\n",
        "    "
      ],
      "execution_count": 10,
      "outputs": []
    },
    {
      "cell_type": "code",
      "metadata": {
        "id": "tuidC-qszjv8",
        "colab": {
          "base_uri": "https://localhost:8080/"
        },
        "outputId": "e0b74564-9a19-42e3-f194-a657c16bfd6d"
      },
      "source": [
        "# How the formated data looks\n",
        "data[:15]"
      ],
      "execution_count": 11,
      "outputs": [
        {
          "output_type": "execute_result",
          "data": {
            "text/plain": [
              "['K8529482 05/04/2010 Ιωάννα Ioanna Καράμπη Karampe Αριστόβουλος Ιππολύτη Τουρνά 14/02/2000 Δράμα Άρτα Κέρκυρα 45465/7 Υ.Α. Άρτα Δράμα, Αριθμός Ταυτότητας: K8529482<|endoftext|>',\n",
              " 'K8529482 05/04/2010 Ιωάννα Ioanna Καράμπη Karampe Αριστόβουλος Ιππολύτη Τουρνά 14/02/2000 Δράμα Άρτα Κέρκυρα 45465/7 Υ.Α. Άρτα Δράμα, Ημερομηνία Έκδοσης: 05/04/2010<|endoftext|>',\n",
              " 'K8529482 05/04/2010 Ιωάννα Ioanna Καράμπη Karampe Αριστόβουλος Ιππολύτη Τουρνά 14/02/2000 Δράμα Άρτα Κέρκυρα 45465/7 Υ.Α. Άρτα Δράμα, Όνομα: Ιωάννα<|endoftext|>',\n",
              " 'K8529482 05/04/2010 Ιωάννα Ioanna Καράμπη Karampe Αριστόβουλος Ιππολύτη Τουρνά 14/02/2000 Δράμα Άρτα Κέρκυρα 45465/7 Υ.Α. Άρτα Δράμα, Given Name: Ioanna<|endoftext|>',\n",
              " 'K8529482 05/04/2010 Ιωάννα Ioanna Καράμπη Karampe Αριστόβουλος Ιππολύτη Τουρνά 14/02/2000 Δράμα Άρτα Κέρκυρα 45465/7 Υ.Α. Άρτα Δράμα, Επώνυμο: Καράμπη<|endoftext|>',\n",
              " 'K8529482 05/04/2010 Ιωάννα Ioanna Καράμπη Karampe Αριστόβουλος Ιππολύτη Τουρνά 14/02/2000 Δράμα Άρτα Κέρκυρα 45465/7 Υ.Α. Άρτα Δράμα, Surname: Karampe<|endoftext|>',\n",
              " 'K8529482 05/04/2010 Ιωάννα Ioanna Καράμπη Karampe Αριστόβουλος Ιππολύτη Τουρνά 14/02/2000 Δράμα Άρτα Κέρκυρα 45465/7 Υ.Α. Άρτα Δράμα, Πατρώνυμο: Αριστόβουλος<|endoftext|>',\n",
              " 'K8529482 05/04/2010 Ιωάννα Ioanna Καράμπη Karampe Αριστόβουλος Ιππολύτη Τουρνά 14/02/2000 Δράμα Άρτα Κέρκυρα 45465/7 Υ.Α. Άρτα Δράμα, Mητέρας Όνομα: Ιππολύτη<|endoftext|>',\n",
              " 'K8529482 05/04/2010 Ιωάννα Ioanna Καράμπη Karampe Αριστόβουλος Ιππολύτη Τουρνά 14/02/2000 Δράμα Άρτα Κέρκυρα 45465/7 Υ.Α. Άρτα Δράμα, Επίθετο Μητέρας: Τουρνά<|endoftext|>',\n",
              " 'K8529482 05/04/2010 Ιωάννα Ioanna Καράμπη Karampe Αριστόβουλος Ιππολύτη Τουρνά 14/02/2000 Δράμα Άρτα Κέρκυρα 45465/7 Υ.Α. Άρτα Δράμα, Ημερομηνία Γέννησης: 14/02/2000<|endoftext|>',\n",
              " 'K8529482 05/04/2010 Ιωάννα Ioanna Καράμπη Karampe Αριστόβουλος Ιππολύτη Τουρνά 14/02/2000 Δράμα Άρτα Κέρκυρα 45465/7 Υ.Α. Άρτα Δράμα, Καταγωγή: Δράμα Άρτα<|endoftext|>',\n",
              " 'K8529482 05/04/2010 Ιωάννα Ioanna Καράμπη Karampe Αριστόβουλος Ιππολύτη Τουρνά 14/02/2000 Δράμα Άρτα Κέρκυρα 45465/7 Υ.Α. Άρτα Δράμα, Δημότης: Κέρκυρα 45465/7<|endoftext|>',\n",
              " 'K8529482 05/04/2010 Ιωάννα Ioanna Καράμπη Karampe Αριστόβουλος Ιππολύτη Τουρνά 14/02/2000 Δράμα Άρτα Κέρκυρα 45465/7 Υ.Α. Άρτα Δράμα, Αρχή Έκδοσης Δελτίου: Υ.Α. Άρτα Δράμα<|endoftext|>',\n",
              " 'ZP1396751 10/12/2008 Κυπαρισσία Kuparissia Καρκανάκη Karkanake Κλεομένης Γλαύκη Παναγιωτακοπούλου 07/01/1991 Χαλκιδική Μυτιλήνη Φλώρινα 02154/6 Υ.Α. Μυτιλήνη Χαλκιδική, Αριθμός Ταυτότητας: ZP1396751<|endoftext|>',\n",
              " 'ZP1396751 10/12/2008 Κυπαρισσία Kuparissia Καρκανάκη Karkanake Κλεομένης Γλαύκη Παναγιωτακοπούλου 07/01/1991 Χαλκιδική Μυτιλήνη Φλώρινα 02154/6 Υ.Α. Μυτιλήνη Χαλκιδική, Ημερομηνία Έκδοσης: 10/12/2008<|endoftext|>']"
            ]
          },
          "metadata": {
            "tags": []
          },
          "execution_count": 11
        }
      ]
    },
    {
      "cell_type": "markdown",
      "metadata": {
        "id": "wem5aHwF0ho-"
      },
      "source": [
        "# 3. Split my Data into train and validatons and test\n"
      ]
    },
    {
      "cell_type": "code",
      "metadata": {
        "id": "4Fmlevd70emi",
        "colab": {
          "base_uri": "https://localhost:8080/"
        },
        "outputId": "d610ff26-6c7c-411b-a4e7-e4f8d5475a91"
      },
      "source": [
        "len(data)"
      ],
      "execution_count": 12,
      "outputs": [
        {
          "output_type": "execute_result",
          "data": {
            "text/plain": [
              "13000"
            ]
          },
          "metadata": {
            "tags": []
          },
          "execution_count": 12
        }
      ]
    },
    {
      "cell_type": "markdown",
      "metadata": {
        "id": "PQa1l8ED1BJu"
      },
      "source": [
        "#4. Tokenization"
      ]
    },
    {
      "cell_type": "code",
      "metadata": {
        "id": "8PfOnPm301Yn"
      },
      "source": [
        "from transformers import GPT2Tokenizer, GPT2LMHeadModel, GPT2Config"
      ],
      "execution_count": 13,
      "outputs": []
    },
    {
      "cell_type": "code",
      "metadata": {
        "id": "BxA4MqHF1Ag9"
      },
      "source": [
        "# set model name \n",
        "model_name = 'gpt2'"
      ],
      "execution_count": 14,
      "outputs": []
    },
    {
      "cell_type": "code",
      "metadata": {
        "id": "AJX9KB8X1LdT",
        "colab": {
          "base_uri": "https://localhost:8080/",
          "height": 235,
          "referenced_widgets": [
            "7a182f9342b94d9d8a7dc5eed25511ee",
            "a630f5260d8e44e39b2c736c6f0c64df",
            "e3c06da99d344c9ab75dd88b252825a9",
            "b082052cf3c144959f99acccefe65005",
            "422f0adbf0df4367831454ad8973f2bb",
            "0d312aea65fe428d9958f013eba3d868",
            "6a6ded50dfc54cb6ab0724f37e112253",
            "df4ce61e151d4c5a82c3110d0e52c491",
            "74e4a8847880408990c08be0e4166df8",
            "a9a6cc447eec4ebdbc10b6f65f2cf314",
            "0162228ccdb24e969480aae05ee731be",
            "415bf57afe184265959f438c266fd30f",
            "594b1eb6d53147b79085a1499ef68019",
            "1d000c312d084a8a888f830fce5cc123",
            "b52cb29d74e94a83ae844afee7bcacc0",
            "99e7952db4344a2aba45e8e0f32e2787",
            "055d12f2b7784388ad61edcbadcae266",
            "7f14c56ea4be4f8bbb8527271e8ab3c4",
            "b051f385a52d417cb1ee370ee43366a9",
            "b8dddfe00a8c4833b61a622f6ff51b40",
            "f1f06676e3ad4d60877b8b36f2080876",
            "f3b2477f561043f7b8a7750593c7bdba",
            "664be3fffc5c432b92e3b0879fc41b3b",
            "788bf526d17d4216bf9dc980f4411523",
            "1384a083351c44b5b6132469cf969d14",
            "5756f230475845a68d4356db4df0080f",
            "79cee4caedda44cb854c3c597b11739c",
            "cb2cf74d70fd4fffbccf61f0e1448cc1",
            "3bb04b898d184d6696937a1c3eadbbf1",
            "1097ff23c90f462f9178cb763a8895b8",
            "cdd35a226d1643c1b023050a377d1a70",
            "9a3ce5bd2c8041cdbbea3aec89fdefcc"
          ]
        },
        "outputId": "63f735c0-8eb0-4a4b-b70b-2db26d12bccf"
      },
      "source": [
        "# add extra special tokens\n",
        "tokenizer = GPT2Tokenizer.from_pretrained(model_name,\n",
        "                                          eos_token='<|endoftext|>', \n",
        "                                          pad_token='<|pad|>' )"
      ],
      "execution_count": 15,
      "outputs": [
        {
          "output_type": "display_data",
          "data": {
            "application/vnd.jupyter.widget-view+json": {
              "model_id": "7a182f9342b94d9d8a7dc5eed25511ee",
              "version_minor": 0,
              "version_major": 2
            },
            "text/plain": [
              "HBox(children=(FloatProgress(value=0.0, description='Downloading', max=1042301.0, style=ProgressStyle(descript…"
            ]
          },
          "metadata": {
            "tags": []
          }
        },
        {
          "output_type": "stream",
          "text": [
            "\n"
          ],
          "name": "stdout"
        },
        {
          "output_type": "display_data",
          "data": {
            "application/vnd.jupyter.widget-view+json": {
              "model_id": "74e4a8847880408990c08be0e4166df8",
              "version_minor": 0,
              "version_major": 2
            },
            "text/plain": [
              "HBox(children=(FloatProgress(value=0.0, description='Downloading', max=456318.0, style=ProgressStyle(descripti…"
            ]
          },
          "metadata": {
            "tags": []
          }
        },
        {
          "output_type": "stream",
          "text": [
            "\n"
          ],
          "name": "stdout"
        },
        {
          "output_type": "display_data",
          "data": {
            "application/vnd.jupyter.widget-view+json": {
              "model_id": "055d12f2b7784388ad61edcbadcae266",
              "version_minor": 0,
              "version_major": 2
            },
            "text/plain": [
              "HBox(children=(FloatProgress(value=0.0, description='Downloading', max=1355256.0, style=ProgressStyle(descript…"
            ]
          },
          "metadata": {
            "tags": []
          }
        },
        {
          "output_type": "stream",
          "text": [
            "\n"
          ],
          "name": "stdout"
        },
        {
          "output_type": "display_data",
          "data": {
            "application/vnd.jupyter.widget-view+json": {
              "model_id": "1384a083351c44b5b6132469cf969d14",
              "version_minor": 0,
              "version_major": 2
            },
            "text/plain": [
              "HBox(children=(FloatProgress(value=0.0, description='Downloading', max=665.0, style=ProgressStyle(description_…"
            ]
          },
          "metadata": {
            "tags": []
          }
        },
        {
          "output_type": "stream",
          "text": [
            "Special tokens have been added in the vocabulary, make sure the associated word embeddings are fine-tuned or trained.\n"
          ],
          "name": "stderr"
        },
        {
          "output_type": "stream",
          "text": [
            "\n"
          ],
          "name": "stdout"
        }
      ]
    },
    {
      "cell_type": "markdown",
      "metadata": {
        "id": "sqsaA6eQAzt5"
      },
      "source": [
        "## Check the tokenizer parameters"
      ]
    },
    {
      "cell_type": "code",
      "metadata": {
        "id": "h0q8AgIbB-hA",
        "colab": {
          "base_uri": "https://localhost:8080/"
        },
        "outputId": "ca66fa15-c808-42bf-a53f-1e192da73e5d"
      },
      "source": [
        "tokenizer.special_tokens_map "
      ],
      "execution_count": 16,
      "outputs": [
        {
          "output_type": "execute_result",
          "data": {
            "text/plain": [
              "{'bos_token': '<|endoftext|>',\n",
              " 'eos_token': '<|endoftext|>',\n",
              " 'pad_token': '<|pad|>',\n",
              " 'unk_token': '<|endoftext|>'}"
            ]
          },
          "metadata": {
            "tags": []
          },
          "execution_count": 16
        }
      ]
    },
    {
      "cell_type": "code",
      "metadata": {
        "colab": {
          "base_uri": "https://localhost:8080/"
        },
        "id": "vfr1tDFiAxsf",
        "outputId": "6b821305-6c39-41c5-d7d3-c37524cc2d64"
      },
      "source": [
        "print(\"The max model length is {} for this model, although the actual embedding size for GPT small is 768\".format(tokenizer.model_max_length))\n",
        "print(\"The beginning of sequence token {} token has the id {}\".format(tokenizer.convert_ids_to_tokens(tokenizer.bos_token_id), tokenizer.bos_token_id))\n",
        "print(\"The end of sequence token {} has the id {}\".format(tokenizer.convert_ids_to_tokens(tokenizer.eos_token_id), tokenizer.eos_token_id))\n",
        "print(\"The padding token {} has the id {}\".format(tokenizer.convert_ids_to_tokens(tokenizer.pad_token_id), tokenizer.pad_token_id))"
      ],
      "execution_count": 17,
      "outputs": [
        {
          "output_type": "stream",
          "text": [
            "The max model length is 1024 for this model, although the actual embedding size for GPT small is 768\n",
            "The beginning of sequence token <|endoftext|> token has the id 50256\n",
            "The end of sequence token <|endoftext|> has the id 50256\n",
            "The padding token <|pad|> has the id 50257\n"
          ],
          "name": "stdout"
        }
      ]
    },
    {
      "cell_type": "code",
      "metadata": {
        "id": "-rjeupUM1OFi",
        "colab": {
          "base_uri": "https://localhost:8080/"
        },
        "outputId": "f9840aed-ee20-46fe-e04d-e9087aa0e912"
      },
      "source": [
        "# +1 for any case \n",
        "max_length = max([len(tokenizer.encode(row)) for row in data])\n",
        "max_length = max_length +1\n",
        "print(f'The longest text is {max_length} tokens long.')"
      ],
      "execution_count": 19,
      "outputs": [
        {
          "output_type": "stream",
          "text": [
            "The longest text is 242 tokens long.\n"
          ],
          "name": "stdout"
        }
      ]
    },
    {
      "cell_type": "markdown",
      "metadata": {
        "id": "RbMR9BwS3MAG"
      },
      "source": [
        "# 5. PyTorch Datasets & Dataloaders"
      ]
    },
    {
      "cell_type": "markdown",
      "metadata": {
        "id": "MPVIV93a3m06"
      },
      "source": [
        "The batch size will affect the training time so it is always a good idea to set the batch to the highest number you can fit in the memory of the GPU you are using for training, however this hyper parameter should only affect training time but not model performance. A batch size too large won't fit in memory for some GPUS so you will have to adjust this parameter if you aren't allocated a T4 or K80."
      ]
    },
    {
      "cell_type": "code",
      "metadata": {
        "id": "hlcdKKKs3Df-"
      },
      "source": [
        "# Set batch size\n",
        "batch_size = 4"
      ],
      "execution_count": 20,
      "outputs": []
    },
    {
      "cell_type": "code",
      "metadata": {
        "colab": {
          "base_uri": "https://localhost:8080/"
        },
        "id": "RthSO0Sy3hY-",
        "outputId": "30071c7e-bdf4-454f-9eea-d319791d66f6"
      },
      "source": [
        "!nvidia-smi"
      ],
      "execution_count": 21,
      "outputs": [
        {
          "output_type": "stream",
          "text": [
            "Tue Jul 27 09:25:16 2021       \n",
            "+-----------------------------------------------------------------------------+\n",
            "| NVIDIA-SMI 470.42.01    Driver Version: 460.32.03    CUDA Version: 11.2     |\n",
            "|-------------------------------+----------------------+----------------------+\n",
            "| GPU  Name        Persistence-M| Bus-Id        Disp.A | Volatile Uncorr. ECC |\n",
            "| Fan  Temp  Perf  Pwr:Usage/Cap|         Memory-Usage | GPU-Util  Compute M. |\n",
            "|                               |                      |               MIG M. |\n",
            "|===============================+======================+======================|\n",
            "|   0  Tesla T4            Off  | 00000000:00:04.0 Off |                    0 |\n",
            "| N/A   38C    P8     9W /  70W |      0MiB / 15109MiB |      0%      Default |\n",
            "|                               |                      |                  N/A |\n",
            "+-------------------------------+----------------------+----------------------+\n",
            "                                                                               \n",
            "+-----------------------------------------------------------------------------+\n",
            "| Processes:                                                                  |\n",
            "|  GPU   GI   CI        PID   Type   Process name                  GPU Memory |\n",
            "|        ID   ID                                                   Usage      |\n",
            "|=============================================================================|\n",
            "|  No running processes found                                                 |\n",
            "+-----------------------------------------------------------------------------+\n"
          ],
          "name": "stdout"
        }
      ]
    },
    {
      "cell_type": "code",
      "metadata": {
        "id": "QgHeSx9xX13c"
      },
      "source": [
        "# Libs\n",
        "import torch\n",
        "from torch.utils.data import Dataset, DataLoader, random_split, RandomSampler, SequentialSampler"
      ],
      "execution_count": 22,
      "outputs": []
    },
    {
      "cell_type": "code",
      "metadata": {
        "id": "5OPVjYX-3t0s"
      },
      "source": [
        "class IDDataset(Dataset):\n",
        "\n",
        "  def __init__(self, df, tokenizer, gpt2_type=\"gpt2\", max_length=max_length):\n",
        "\n",
        "    self.tokenizer = tokenizer\n",
        "    self.input_ids = []\n",
        "    self.attn_masks = []\n",
        "\n",
        "    for line in df:\n",
        "      encodings_dict = tokenizer(line, truncation=True, max_length=max_length, padding=\"max_length\")\n",
        "\n",
        "      self.input_ids.append(torch.tensor(encodings_dict['input_ids']))\n",
        "      self.attn_masks.append(torch.tensor(encodings_dict['attention_mask']))\n",
        "    \n",
        "  def __len__(self):\n",
        "    return len(self.input_ids)\n",
        "\n",
        "  def __getitem__(self, idx):\n",
        "    return self.input_ids[idx], self.attn_masks[idx] "
      ],
      "execution_count": 23,
      "outputs": []
    },
    {
      "cell_type": "markdown",
      "metadata": {
        "id": "73mo8aWX8j7P"
      },
      "source": [
        "## Create Dataset "
      ]
    },
    {
      "cell_type": "code",
      "metadata": {
        "id": "7cGTn3OB9xRC"
      },
      "source": [
        "from torch.utils.data import random_split"
      ],
      "execution_count": 24,
      "outputs": []
    },
    {
      "cell_type": "code",
      "metadata": {
        "id": "XC1NL37q90Gw"
      },
      "source": [
        "dataset = IDDataset(data, tokenizer, max_length=max_length)"
      ],
      "execution_count": 25,
      "outputs": []
    },
    {
      "cell_type": "code",
      "metadata": {
        "id": "xPa5K003-Z8M",
        "colab": {
          "base_uri": "https://localhost:8080/"
        },
        "outputId": "4c6cf9c0-b682-491b-af78-fcd937ddea2a"
      },
      "source": [
        "dataset[10]"
      ],
      "execution_count": 26,
      "outputs": [
        {
          "output_type": "execute_result",
          "data": {
            "text/plain": [
              "(tensor([   42,  5332,  1959, 40149,  8870,    14,  3023,    14, 10333,  7377,\n",
              "           247, 49535,   138,   105, 26180, 26180, 17394, 27853,  7697,  7377,\n",
              "           248, 17394, 33643,   138,   105, 34703, 46582,   138,   115,  9375,\n",
              "           321,   431,  7377,   239, 33643, 29945, 38392, 32830,   139,   234,\n",
              "         26638, 26517,   139,   227, 39377, 26517, 35558,  7377,   247, 46582,\n",
              "         46582, 26517, 39377,   139,   235, 32830,   138,   115,  7377,    97,\n",
              "         26517,   139,   227, 33643, 26180,   138,   105,  1478,    14,  2999,\n",
              "            14, 11024, 37455, 33643,   138,   105, 34703, 17394,  7377,   228,\n",
              "         33643, 32830, 17394,  7377,   248,   138,   255, 33643, 43000,   139,\n",
              "           227, 33643, 17394,   604,  4051,  2996,    14,    22,  7377,    98,\n",
              "            13,   138,   239,    13,  7377,   228, 33643, 32830, 17394, 37455,\n",
              "         33643,   138,   105, 34703, 17394,    11,  7377,   248, 17394, 32830,\n",
              "         17394, 42063, 49535, 42063,   138,   106,    25, 37455, 33643,   138,\n",
              "           105, 34703, 17394,  7377,   228, 33643, 32830, 17394, 50256, 50257,\n",
              "         50257, 50257, 50257, 50257, 50257, 50257, 50257, 50257, 50257, 50257,\n",
              "         50257, 50257, 50257, 50257, 50257, 50257, 50257, 50257, 50257, 50257,\n",
              "         50257, 50257, 50257, 50257, 50257, 50257, 50257, 50257, 50257, 50257,\n",
              "         50257, 50257, 50257, 50257, 50257, 50257, 50257, 50257, 50257, 50257,\n",
              "         50257, 50257, 50257, 50257, 50257, 50257, 50257, 50257, 50257, 50257,\n",
              "         50257, 50257, 50257, 50257, 50257, 50257, 50257, 50257, 50257, 50257,\n",
              "         50257, 50257, 50257, 50257, 50257, 50257, 50257, 50257, 50257, 50257,\n",
              "         50257, 50257, 50257, 50257, 50257, 50257, 50257, 50257, 50257, 50257,\n",
              "         50257, 50257, 50257, 50257, 50257, 50257, 50257, 50257, 50257, 50257,\n",
              "         50257, 50257, 50257, 50257, 50257, 50257, 50257, 50257, 50257, 50257,\n",
              "         50257, 50257]),\n",
              " tensor([1, 1, 1, 1, 1, 1, 1, 1, 1, 1, 1, 1, 1, 1, 1, 1, 1, 1, 1, 1, 1, 1, 1, 1,\n",
              "         1, 1, 1, 1, 1, 1, 1, 1, 1, 1, 1, 1, 1, 1, 1, 1, 1, 1, 1, 1, 1, 1, 1, 1,\n",
              "         1, 1, 1, 1, 1, 1, 1, 1, 1, 1, 1, 1, 1, 1, 1, 1, 1, 1, 1, 1, 1, 1, 1, 1,\n",
              "         1, 1, 1, 1, 1, 1, 1, 1, 1, 1, 1, 1, 1, 1, 1, 1, 1, 1, 1, 1, 1, 1, 1, 1,\n",
              "         1, 1, 1, 1, 1, 1, 1, 1, 1, 1, 1, 1, 1, 1, 1, 1, 1, 1, 1, 1, 1, 1, 1, 1,\n",
              "         1, 1, 1, 1, 1, 1, 1, 1, 1, 1, 1, 1, 1, 1, 1, 1, 1, 1, 1, 0, 0, 0, 0, 0,\n",
              "         0, 0, 0, 0, 0, 0, 0, 0, 0, 0, 0, 0, 0, 0, 0, 0, 0, 0, 0, 0, 0, 0, 0, 0,\n",
              "         0, 0, 0, 0, 0, 0, 0, 0, 0, 0, 0, 0, 0, 0, 0, 0, 0, 0, 0, 0, 0, 0, 0, 0,\n",
              "         0, 0, 0, 0, 0, 0, 0, 0, 0, 0, 0, 0, 0, 0, 0, 0, 0, 0, 0, 0, 0, 0, 0, 0,\n",
              "         0, 0, 0, 0, 0, 0, 0, 0, 0, 0, 0, 0, 0, 0, 0, 0, 0, 0, 0, 0, 0, 0, 0, 0,\n",
              "         0, 0]))"
            ]
          },
          "metadata": {
            "tags": []
          },
          "execution_count": 26
        }
      ]
    },
    {
      "cell_type": "code",
      "metadata": {
        "colab": {
          "base_uri": "https://localhost:8080/"
        },
        "id": "XoHWM23-8cXw",
        "outputId": "7bde91ee-0ff4-4dde-f9e4-b0ea71cd5278"
      },
      "source": [
        "train_size = int(0.85 * len(dataset))\n",
        "val_size = len(dataset)-train_size\n",
        "\n",
        "train_dataset, val_dataset = random_split(dataset, [train_size, val_size])\n",
        "\n",
        "#f'There are {train_size} samples for training, and {val_size} samples for validation testing'\n",
        "print('{:>5,} training samples'.format(train_size))\n",
        "print('{:>5,} validation samples'.format(val_size))"
      ],
      "execution_count": 27,
      "outputs": [
        {
          "output_type": "stream",
          "text": [
            "11,050 training samples\n",
            "1,950 validation samples\n"
          ],
          "name": "stdout"
        }
      ]
    },
    {
      "cell_type": "markdown",
      "metadata": {
        "id": "LGN13hgCY5J2"
      },
      "source": [
        "## Create Dataloader"
      ]
    },
    {
      "cell_type": "markdown",
      "metadata": {
        "id": "U9Hq22Qm-ytN"
      },
      "source": [
        "Next we will create the dataloader object which will feed the neural network, this combines a dataset and a sampler, and provides single- or multi-process iterators over the dataset."
      ]
    },
    {
      "cell_type": "code",
      "metadata": {
        "id": "uUm4O2uZZCUo"
      },
      "source": [
        "from torch.utils.data import DataLoader, RandomSampler, SequentialSampler"
      ],
      "execution_count": 28,
      "outputs": []
    },
    {
      "cell_type": "code",
      "metadata": {
        "id": "DE9CmA1-9RvU"
      },
      "source": [
        "train_dataloader = DataLoader(\n",
        "    train_dataset,\n",
        "    sampler = RandomSampler(train_dataset), # Sampling for training is Random\n",
        "    batch_size = batch_size\n",
        ")\n",
        "\n",
        "validation_dataloader = DataLoader(\n",
        "    val_dataset,\n",
        "    sampler = SequentialSampler(val_dataset),\n",
        "    batch_size = batch_size\n",
        ")"
      ],
      "execution_count": 29,
      "outputs": []
    },
    {
      "cell_type": "markdown",
      "metadata": {
        "id": "xVuXlDuP_w4p"
      },
      "source": [
        "# Finetune GPT2 Language Model"
      ]
    },
    {
      "cell_type": "code",
      "metadata": {
        "id": "7cNbl4GsyWTQ"
      },
      "source": [
        "import random\n",
        "from transformers import GPT2LMHeadModel, GPT2Config\n",
        "import numpy as np"
      ],
      "execution_count": 30,
      "outputs": []
    },
    {
      "cell_type": "markdown",
      "metadata": {
        "id": "hdbm-J3CbWpo"
      },
      "source": [
        "## Set GPU"
      ]
    },
    {
      "cell_type": "markdown",
      "metadata": {
        "id": "ypK7Yl8Qchmn"
      },
      "source": [
        "[GPU or CPU](https://stackoverflow.com/questions/63302534/how-to-write-torch-devicecuda-if-torch-cuda-is-available-else-cpu-as-a-f)"
      ]
    },
    {
      "cell_type": "code",
      "metadata": {
        "id": "RZusrJ1B_t8U",
        "colab": {
          "base_uri": "https://localhost:8080/",
          "height": 67,
          "referenced_widgets": [
            "b6f531178f7843b0981cf18ca638d66e",
            "84b19ea5a8174d7d8f6aea65c1c01039",
            "8ad8952a4b2644268062727deb6d9e4d",
            "19cf9241453e4db796c789bde2fa15a3",
            "c8b4c12dce8d4080a6e099e3e7db5a92",
            "e5fffc0af7ca4a24aca739faa2332589",
            "e36b7167214b46e598b75178f90a1ebb",
            "2b12b78a99694567995a3fe102b26d08"
          ]
        },
        "outputId": "d583e1e2-a1bb-4d45-c928-44ea1a3d61ef"
      },
      "source": [
        "# cleaning the occupied cuda memory\n",
        "torch.cuda.empty_cache()\n",
        "\n",
        "# Loading the model configuration and setting it to the GPT2 standard settings.\n",
        "configuration = GPT2Config.from_pretrained(model_name, output_hiden_states=False)\n",
        "\n",
        "# Create the instance of the model \n",
        "model = GPT2LMHeadModel.from_pretrained(model_name, config=configuration)\n",
        "# set the token size embedding length\n",
        "model.resize_token_embeddings(len(tokenizer))\n",
        "\n",
        "# Tell pytorch to run this model on the GPU \n",
        "# if not available then run on cpu \n",
        "device = torch.device('cuda' if torch.cuda.is_available() else 'cpu')\n",
        "\n",
        "model.cuda()\n",
        "\n",
        "#  This step is optional but it wiil enable reproducible runs\n",
        "seed_val = 42\n",
        "\n",
        "random.seed(seed_val)\n",
        "np.random.seed(seed_val)\n",
        "torch.manual_seed(seed_val)\n",
        "torch.cuda.manual_seed_all(seed_val)"
      ],
      "execution_count": 31,
      "outputs": [
        {
          "output_type": "display_data",
          "data": {
            "application/vnd.jupyter.widget-view+json": {
              "model_id": "b6f531178f7843b0981cf18ca638d66e",
              "version_minor": 0,
              "version_major": 2
            },
            "text/plain": [
              "HBox(children=(FloatProgress(value=0.0, description='Downloading', max=548118077.0, style=ProgressStyle(descri…"
            ]
          },
          "metadata": {
            "tags": []
          }
        },
        {
          "output_type": "stream",
          "text": [
            "\n"
          ],
          "name": "stdout"
        }
      ]
    },
    {
      "cell_type": "code",
      "metadata": {
        "id": "u-SHB_RM7AYp"
      },
      "source": [
        "#configuration"
      ],
      "execution_count": null,
      "outputs": []
    },
    {
      "cell_type": "markdown",
      "metadata": {
        "id": "zsMErm97bNy8"
      },
      "source": [
        "## Training parameters"
      ]
    },
    {
      "cell_type": "code",
      "metadata": {
        "id": "_iKVoD3ZFf80"
      },
      "source": [
        "# We wil create a few variables to define the training parameters of the model\n",
        "# epochs are the  {training rounds}\n",
        "# the warmup steps are steps at the start of training that are ignored\n",
        "# every x steps we will sample the model to test the output\n",
        "\n",
        "epochs = 4\n",
        "learning_rate = 5e-4\n",
        "warmup_steps = 1e2\n",
        "epsilon = 1e-8\n",
        "\n",
        "# this produces sample output every 100 steps\n",
        "sample_every = 100"
      ],
      "execution_count": 32,
      "outputs": []
    },
    {
      "cell_type": "markdown",
      "metadata": {
        "id": "Pxp3bdepGdgV"
      },
      "source": [
        "AdamW is the optimizer of choice for training many models, we will be using Hugging Face's implementation and all of it's defaults, we will also set the number of epochs here, again as we are fine tuning, not retraining, we don't need to run very long models."
      ]
    },
    {
      "cell_type": "code",
      "metadata": {
        "id": "wYc_l9NGGyLH"
      },
      "source": [
        "from transformers import AdamW\n",
        "# AdamW is a class from the huggingface library, it is the optimizer we will be using, and we will only be instantiating it with the default parameters. \n",
        "optimizer = AdamW(model.parameters(),\n",
        "                  lr = learning_rate,\n",
        "                  eps = epsilon\n",
        "                )"
      ],
      "execution_count": 33,
      "outputs": []
    },
    {
      "cell_type": "code",
      "metadata": {
        "id": "BAi70tlvGZhd"
      },
      "source": [
        "from transformers import get_linear_schedule_with_warmup\n",
        "\n",
        "\"\"\"\n",
        "Total training steps is the number of data points, times the number of epochs. \n",
        "Essentially, epochs are training cycles, how many times each point will be seen by the model. \n",
        "\"\"\"\n",
        "\n",
        "total_steps = len(train_dataloader) * epochs\n",
        "\n",
        "\"\"\"\n",
        "We can set a variable learning rate which will help scan larger areas of the \n",
        "problem space at higher LR earlier, then fine tune to find the exact model minima \n",
        "at lower LR later in training.\n",
        "\"\"\"\n",
        "scheduler = get_linear_schedule_with_warmup(optimizer, \n",
        "                                            num_warmup_steps = warmup_steps, \n",
        "                                            num_training_steps = total_steps)"
      ],
      "execution_count": 34,
      "outputs": []
    },
    {
      "cell_type": "code",
      "metadata": {
        "id": "LlRteXycEUiv"
      },
      "source": [
        "import random\n",
        "import time\n",
        "import datetime"
      ],
      "execution_count": 35,
      "outputs": []
    },
    {
      "cell_type": "code",
      "metadata": {
        "id": "8iXU84xhEBAL"
      },
      "source": [
        "def format_time(elapsed):\n",
        "    return str(datetime.timedelta(seconds=int(round((elapsed)))))"
      ],
      "execution_count": 36,
      "outputs": []
    },
    {
      "cell_type": "markdown",
      "metadata": {
        "id": "2xoTvqdqbrdI"
      },
      "source": [
        "## model train"
      ]
    },
    {
      "cell_type": "code",
      "metadata": {
        "id": "WhBR2xCkGn2t",
        "colab": {
          "base_uri": "https://localhost:8080/"
        },
        "outputId": "6d432446-012e-45f3-9c1d-c05a30512d80"
      },
      "source": [
        "total_t0 = time.time()\n",
        "\n",
        "training_stats = []\n",
        "\n",
        "model = model.to(device)\n",
        "\n",
        "for epoch_i in range(0, epochs):\n",
        "\n",
        "    # ========================================\n",
        "    #               Training\n",
        "    # ========================================\n",
        "\n",
        "    print(\"\")\n",
        "    print('======== Epoch {:} / {:} ========'.format(epoch_i + 1, epochs))\n",
        "    print('Training...')\n",
        "\n",
        "    t0 = time.time()\n",
        "\n",
        "    total_train_loss = 0\n",
        "\n",
        "    model.train()\n",
        "\n",
        "    for step, batch in enumerate(train_dataloader):\n",
        "\n",
        "        b_input_ids = batch[0].to(device)\n",
        "        b_labels = batch[0].to(device)\n",
        "        b_masks = batch[1].to(device)\n",
        "\n",
        "        model.zero_grad()        \n",
        "\n",
        "        outputs = model(  b_input_ids,\n",
        "                          labels=b_labels, \n",
        "                          attention_mask = b_masks,\n",
        "                          token_type_ids=None\n",
        "                        )\n",
        "\n",
        "        loss = outputs[0]  \n",
        "\n",
        "        batch_loss = loss.item()\n",
        "        total_train_loss += batch_loss\n",
        "\n",
        "        # Get sample every x batches.\n",
        "        if step % sample_every == 0 and not step == 0:\n",
        "\n",
        "            elapsed = format_time(time.time() - t0)\n",
        "            print('  Batch {:>5,}  of  {:>5,}. Loss: {:>5,}.   Elapsed: {:}.'.format(step, len(train_dataloader), batch_loss, elapsed))\n",
        "\n",
        "            model.eval()\n",
        "\n",
        "            sample_outputs = model.generate(\n",
        "                                    bos_token_id=random.randint(1,30000),\n",
        "                                    do_sample=True,   \n",
        "                                    top_k=50, \n",
        "                                    max_length = 200,\n",
        "                                    top_p=0.95, \n",
        "                                    num_return_sequences=1\n",
        "                                )\n",
        "            for i, sample_output in enumerate(sample_outputs):\n",
        "                  print(\"{}: {}\".format(i, tokenizer.decode(sample_output, skip_special_tokens=True)))\n",
        "            \n",
        "            model.train()\n",
        "\n",
        "        loss.backward()\n",
        "\n",
        "        optimizer.step()\n",
        "\n",
        "        scheduler.step()\n",
        "\n",
        "    # Calculate the average loss over all of the batches.\n",
        "    avg_train_loss = total_train_loss / len(train_dataloader)       \n",
        "    \n",
        "    # Measure how long this epoch took.\n",
        "    training_time = format_time(time.time() - t0)\n",
        "\n",
        "    print(\"\")\n",
        "    print(\"  Average training loss: {0:.2f}\".format(avg_train_loss))\n",
        "    print(\"  Training epoch took: {:}\".format(training_time))\n",
        "        \n",
        "    # ========================================\n",
        "    #               Validation\n",
        "    # ========================================\n",
        "\n",
        "    print(\"\")\n",
        "    print(\"Running Validation...\")\n",
        "\n",
        "    t0 = time.time()\n",
        "\n",
        "    model.eval()\n",
        "\n",
        "    total_eval_loss = 0\n",
        "    nb_eval_steps = 0\n",
        "\n",
        "    # Evaluate data for one epoch\n",
        "    for batch in validation_dataloader:\n",
        "        \n",
        "        b_input_ids = batch[0].to(device)\n",
        "        b_labels = batch[0].to(device)\n",
        "        b_masks = batch[1].to(device)\n",
        "        \n",
        "        with torch.no_grad():        \n",
        "\n",
        "            outputs  = model(b_input_ids, \n",
        "#                            token_type_ids=None, \n",
        "                             attention_mask = b_masks,\n",
        "                            labels=b_labels)\n",
        "          \n",
        "            loss = outputs[0]  \n",
        "            \n",
        "        batch_loss = loss.item()\n",
        "        total_eval_loss += batch_loss        \n",
        "\n",
        "    avg_val_loss = total_eval_loss / len(validation_dataloader)\n",
        "    \n",
        "    validation_time = format_time(time.time() - t0)    \n",
        "\n",
        "    print(\"  Validation Loss: {0:.2f}\".format(avg_val_loss))\n",
        "    print(\"  Validation took: {:}\".format(validation_time))\n",
        "\n",
        "    # Record all statistics from this epoch.\n",
        "    training_stats.append(\n",
        "        {\n",
        "            'epoch': epoch_i + 1,\n",
        "            'Training Loss': avg_train_loss,\n",
        "            'Valid. Loss': avg_val_loss,\n",
        "            'Training Time': training_time,\n",
        "            'Validation Time': validation_time\n",
        "        }\n",
        "    )\n",
        "\n",
        "print(\"\")\n",
        "print(\"Training complete!\")\n",
        "print(\"Total training took {:} (h:mm:ss)\".format(format_time(time.time()-total_t0)))"
      ],
      "execution_count": 37,
      "outputs": [
        {
          "output_type": "stream",
          "text": [
            "\n",
            "======== Epoch 1 / 4 ========\n",
            "Training...\n"
          ],
          "name": "stdout"
        },
        {
          "output_type": "stream",
          "text": [
            "Setting `pad_token_id` to `eos_token_id`:50256 for open-end generation.\n"
          ],
          "name": "stderr"
        },
        {
          "output_type": "stream",
          "text": [
            "  Batch   100  of  2,763. Loss: 1.5222768783569336.   Elapsed: 0:00:29.\n",
            "0:  bipartisan5 274040 19/09/2018 Κόραυτας Khakulkarokakhou Θαλλχή Karakoulou Χερένα Ρερχεινη Kontakou Ειάκδήρη Κολάκη Νικθνα Kontakou Μακηλκη Κεραχεινη Υ.Α. Α. Ηιρθνα: Θερυσσσκη, Τάκτετείς Υ.Α. Θερουσσκη: Χασστα: Υ.Α. Περ\n"
          ],
          "name": "stdout"
        },
        {
          "output_type": "stream",
          "text": [
            "Setting `pad_token_id` to `eos_token_id`:50256 for open-end generation.\n"
          ],
          "name": "stderr"
        },
        {
          "output_type": "stream",
          "text": [
            "  Batch   200  of  2,763. Loss: 1.2592811584472656.   Elapsed: 0:01:00.\n",
            "0:  increasing7694936 01/01/2019 Παυμανή Katsios Ξανερβίνωης Kuroukas Ιωφμήνάνη Ενίδα Άδοκης Δέττσαλία 11/06/1981 Κατερος Αίνουμα 29227/9 Υ.Α. Κατερος Επίδα Άδοκης, Δέτσαλία 11/06/1981\n"
          ],
          "name": "stdout"
        },
        {
          "output_type": "stream",
          "text": [
            "Setting `pad_token_id` to `eos_token_id`:50256 for open-end generation.\n"
          ],
          "name": "stderr"
        },
        {
          "output_type": "stream",
          "text": [
            "  Batch   300  of  2,763. Loss: 0.9486419558525085.   Elapsed: 0:01:32.\n",
            "0: day551730 29/02/2008 Λαστεμίδρου Agathe Θεσενώη Αξιλτίουνουλη Πανούκρη Άρυτρίδα Σπώρου 25/08/1943 Ηθειά Λιβασιά Καβάλα 62292/6 Υ.Α. Καβάλα 62292/6 Ηθειά, Ημερομηνία Έκδοσης: 25/08/1943\n"
          ],
          "name": "stdout"
        },
        {
          "output_type": "stream",
          "text": [
            "Setting `pad_token_id` to `eos_token_id`:50256 for open-end generation.\n"
          ],
          "name": "stderr"
        },
        {
          "output_type": "stream",
          "text": [
            "  Batch   400  of  2,763. Loss: 0.8226566314697266.   Elapsed: 0:02:04.\n",
            "0:  Hang254067 29/08/2011 Ανφούλας Klebkias Στώνας Πανηκαρος Μενώ Χαρκανά Μαυλή 25/03/1950 Χανικίδα Αχαΐα Πύργος 67013/3 Υ.Α. Αχαΐα Χανικίδα, Επώνυμο: Χανικίδα Αχαΐα\n"
          ],
          "name": "stdout"
        },
        {
          "output_type": "stream",
          "text": [
            "Setting `pad_token_id` to `eos_token_id`:50256 for open-end generation.\n"
          ],
          "name": "stderr"
        },
        {
          "output_type": "stream",
          "text": [
            "  Batch   500  of  2,763. Loss: 0.8454007506370544.   Elapsed: 0:02:37.\n",
            "0:  foods93384382 20/10/2009 Δοδαμηνα Aedona Κουλάγγκη Karampe Θεοφώτη Μαγνανά 29/10/1926 Φωκίδα Τρίπολη Πύργος 13497/9 Υ.Α. Τρίπολη Φωκίδα, Ημερομηνία Γέννησης: 13497/9\n"
          ],
          "name": "stdout"
        },
        {
          "output_type": "stream",
          "text": [
            "Setting `pad_token_id` to `eos_token_id`:50256 for open-end generation.\n"
          ],
          "name": "stderr"
        },
        {
          "output_type": "stream",
          "text": [
            "  Batch   600  of  2,763. Loss: 0.7821696400642395.   Elapsed: 0:03:09.\n",
            "0:  trail3394751 20/03/2008 Δούλιος Kleanthes Ραύγας Eusepoulos Μιρός Καρηώ Μαράφιος Τιαλία Ακαρχούδου 19/07/1918 Ζάκυνθος Άρτα Κατερίνη 58693/3 Υ.Α. Άρτα Ζάκυνθος Άρτα, Πατρώνυμο: Μιρός\n"
          ],
          "name": "stdout"
        },
        {
          "output_type": "stream",
          "text": [
            "Setting `pad_token_id` to `eos_token_id`:50256 for open-end generation.\n"
          ],
          "name": "stderr"
        },
        {
          "output_type": "stream",
          "text": [
            "  Batch   700  of  2,763. Loss: 0.7377480268478394.   Elapsed: 0:03:43.\n",
            "0: intend5979630 08/05/2017 Ηλιανίκος Marikaelos Μπασίτιος Tsiplas Γεωρισάς Χρισσαυτσίου 06/07/2001 Άρτα Κέρκυρα Χαλκίδα Αργοστόλι 57136/5 Υ.Α. Κέρκυρα Άρτα, Όνομα: Ηλιανίκος\n"
          ],
          "name": "stdout"
        },
        {
          "output_type": "stream",
          "text": [
            "Setting `pad_token_id` to `eos_token_id`:50256 for open-end generation.\n"
          ],
          "name": "stderr"
        },
        {
          "output_type": "stream",
          "text": [
            "  Batch   800  of  2,763. Loss: 0.6886084079742432.   Elapsed: 0:04:16.\n",
            "0:  surround7662587 06/01/2012 Ανάμοτης Theodoulos Φατερίππας Makarios Κλυζάτιος Φουλείδη Τσιάδα 23/06/1963 Ιωάννινα Χανιά Πύργος 76578/9 Υ.Α. Χανιά Ιωάννινα, Given Name: Theodoulos\n"
          ],
          "name": "stdout"
        },
        {
          "output_type": "stream",
          "text": [
            "Setting `pad_token_id` to `eos_token_id`:50256 for open-end generation.\n"
          ],
          "name": "stderr"
        },
        {
          "output_type": "stream",
          "text": [
            "  Batch   900  of  2,763. Loss: 0.6500794291496277.   Elapsed: 0:04:49.\n",
            "0:  reflex5520596 17/07/2015 Ασταλήνη Iasonas Γεοκλίδης Lemones Αγυρής Πηγαυρία Τζανταρίου 06/05/1954 Ηλεία Χανιά Έδεσσα 62085/9 Υ.Α. Χανιά Ηλεία, Όνομα: Αγυρής\n"
          ],
          "name": "stdout"
        },
        {
          "output_type": "stream",
          "text": [
            "Setting `pad_token_id` to `eos_token_id`:50256 for open-end generation.\n"
          ],
          "name": "stderr"
        },
        {
          "output_type": "stream",
          "text": [
            "  Batch 1,000  of  2,763. Loss: 0.624940037727356.   Elapsed: 0:05:22.\n",
            "0:  display8307247 24/02/2020 Ισούσης Ioannes Κοντέλης Koutsares Βλέμαριος Σιλιόμπη Τσιραρή 14/08/1968 Άρτα Ηγουμενίτσα Τρίπολη 65012/5 Υ.Α. Ηγουμενίτσα Άρτα, Surname: Koutsares\n"
          ],
          "name": "stdout"
        },
        {
          "output_type": "stream",
          "text": [
            "Setting `pad_token_id` to `eos_token_id`:50256 for open-end generation.\n"
          ],
          "name": "stderr"
        },
        {
          "output_type": "stream",
          "text": [
            "  Batch 1,100  of  2,763. Loss: 0.5929815769195557.   Elapsed: 0:05:55.\n",
            "0:  pastor8098510 10/07/2015 Ντότσιος Ntotse Μαρόπουλος Karopoulos Αντάνης Ζυβέντα Χαρυά Βησερίου 01/10/1930 Φωκίδα Κατερίνη Λιβαδιά 82330/2 Υ.Α. Κατερίνη Φωκίδα, Given Name: Ntotse\n"
          ],
          "name": "stdout"
        },
        {
          "output_type": "stream",
          "text": [
            "Setting `pad_token_id` to `eos_token_id`:50256 for open-end generation.\n"
          ],
          "name": "stderr"
        },
        {
          "output_type": "stream",
          "text": [
            "  Batch 1,200  of  2,763. Loss: 0.5756650567054749.   Elapsed: 0:06:28.\n",
            "0:  illicit1933152 16/08/2012 Φοίβος Phoibeos Χαλκιόπης Khasape Ρεβέκος Πύρος Ζαβιανουλέα Μαραγυρου 26/01/1917 Καρδίτσα Χαλκίδα Αγ. Νικόλαος 99355/8 Υ.Α. Χαλκίδα Καρδίτσα, Ημερομηνία Έκδοσης: 16/08/2012\n"
          ],
          "name": "stdout"
        },
        {
          "output_type": "stream",
          "text": [
            "Setting `pad_token_id` to `eos_token_id`:50256 for open-end generation.\n"
          ],
          "name": "stderr"
        },
        {
          "output_type": "stream",
          "text": [
            "  Batch 1,300  of  2,763. Loss: 0.5171040892601013.   Elapsed: 0:07:01.\n",
            "0:  Liberation8982785 24/01/2019 Σάρρος Sarros Κουτσούρης Koures Αυγόριστος Λαουκία Κυκουθάδη 27/03/1916 Πρέβεζα Κοζάνη Μεσολόγγι 55266/6 Υ.Α. Κοζάνη Πρέβεζα, Επίθετο Μητέρας: Κυκουθάδη\n"
          ],
          "name": "stdout"
        },
        {
          "output_type": "stream",
          "text": [
            "Setting `pad_token_id` to `eos_token_id`:50256 for open-end generation.\n"
          ],
          "name": "stderr"
        },
        {
          "output_type": "stream",
          "text": [
            "  Batch 1,400  of  2,763. Loss: 0.5046306848526001.   Elapsed: 0:07:35.\n",
            "0:  Nam2787446 08/08/2014 Φρύντιος Phruneinos Πολυξένης Poulias Διονυσής Μανδρίκα Σπυρζέα 27/12/1973 Άρτα Κατερίνη Λιβαδιά 51676/9 Υ.Α. Κατερίνη Άρτα, Ημερομηνία Έκδοσης: 08/08/2014\n"
          ],
          "name": "stdout"
        },
        {
          "output_type": "stream",
          "text": [
            "Setting `pad_token_id` to `eos_token_id`:50256 for open-end generation.\n"
          ],
          "name": "stderr"
        },
        {
          "output_type": "stream",
          "text": [
            "  Batch 1,500  of  2,763. Loss: 0.48268166184425354.   Elapsed: 0:08:08.\n",
            "0: ION8192097 22/12/2018 Διαλεκτή Dialekte Κοτσιούδη Kuritsaou Χαρίτου Khoroze Θησεύς Χριστιανοπούλου 22/12/1959 Ηράκλειο Άρτα Ιωάννινα 19587/4 Υ.Α. Άρτα Ηράκλειο, Ημερομηνία Έκδοσης: 22/12/2018\n"
          ],
          "name": "stdout"
        },
        {
          "output_type": "stream",
          "text": [
            "Setting `pad_token_id` to `eos_token_id`:50256 for open-end generation.\n"
          ],
          "name": "stderr"
        },
        {
          "output_type": "stream",
          "text": [
            "  Batch 1,600  of  2,763. Loss: 0.48589998483657837.   Elapsed: 0:08:42.\n",
            "0:  glimpse0762794 27/10/2012 Πίνδαρος Pindaros Κασκαριχάς Katarakhias Γκιλίας Φρανή Καρουγιάννη 11/11/1948 Λακωνία Καλαμάτα Λάρισα 75359/2 Υ.Α. Καλαμάτα Λακωνία, Όνομα: Πίνδαρος\n"
          ],
          "name": "stdout"
        },
        {
          "output_type": "stream",
          "text": [
            "Setting `pad_token_id` to `eos_token_id`:50256 for open-end generation.\n"
          ],
          "name": "stderr"
        },
        {
          "output_type": "stream",
          "text": [
            "  Batch 1,700  of  2,763. Loss: 0.45791324973106384.   Elapsed: 0:09:15.\n",
            "0:  Laure9456827 13/07/2009 Γκιρινός Gkribos Σπαπθάρη Spapatos Βάιος Νεοκλή Ναυσοπούλου 05/02/1989 Άρτα Χανιά Πύργος 75359/7 Υ.Α. Χανιά Άρτα, Καταγωγή: Άρτα Χανιά\n"
          ],
          "name": "stdout"
        },
        {
          "output_type": "stream",
          "text": [
            "Setting `pad_token_id` to `eos_token_id`:50256 for open-end generation.\n"
          ],
          "name": "stderr"
        },
        {
          "output_type": "stream",
          "text": [
            "  Batch 1,800  of  2,763. Loss: 0.46337035298347473.   Elapsed: 0:09:48.\n",
            "0: ism0042991 18/03/2007 Σπυριδάκη Spuridon Ασαργιώτης Asarides Ακριβός Γεράσιμος Ζουκίμη 29/06/1963 Έβρος Δράμα Καρπενήσι 07320/4 Υ.Α. Δράμα Έβρος, Πατρώνυμο: Ακριβός\n"
          ],
          "name": "stdout"
        },
        {
          "output_type": "stream",
          "text": [
            "Setting `pad_token_id` to `eos_token_id`:50256 for open-end generation.\n"
          ],
          "name": "stderr"
        },
        {
          "output_type": "stream",
          "text": [
            "  Batch 1,900  of  2,763. Loss: 0.40014728903770447.   Elapsed: 0:10:21.\n",
            "0: oun3868798 03/02/2019 Μυρσίνη Mursine Σπασώτη Spasegkou Σωκράτης Αυγή Χρυσαυγιάννη 21/11/1936 Θεσσαλονίκη Καρπενήσι Μεσολόγγι 04971/1 Υ.Α. Καρπενήσι Θεσσαλονίκη, Πατρώνυμο: Σωκράτης\n"
          ],
          "name": "stdout"
        },
        {
          "output_type": "stream",
          "text": [
            "Setting `pad_token_id` to `eos_token_id`:50256 for open-end generation.\n"
          ],
          "name": "stderr"
        },
        {
          "output_type": "stream",
          "text": [
            "  Batch 2,000  of  2,763. Loss: 0.45142030715942383.   Elapsed: 0:10:55.\n",
            "0:  election2799441 13/04/2014 Ισμήνη Ismene Λαέρπη Lebente Γεωργή George Κομνηνός Γιαννά Παπανδρέου 15/08/1989 Χίος Καστοριά Καλαμάτα 68876/8 Υ.Α. Καστοριά Χίος, Όνομα: Ισμήνη\n"
          ],
          "name": "stdout"
        },
        {
          "output_type": "stream",
          "text": [
            "Setting `pad_token_id` to `eos_token_id`:50256 for open-end generation.\n"
          ],
          "name": "stderr"
        },
        {
          "output_type": "stream",
          "text": [
            "  Batch 2,100  of  2,763. Loss: 0.37821775674819946.   Elapsed: 0:11:28.\n",
            "0:  crazy6758295 03/12/2018 Κάρολος Karolos Γαλάντζος Alexandros Μαύρος Μαρεντζή Μπονέλη 09/04/1946 Ξάνθη Κομοτηνή Ηγουμενίτσα 04219/2 Υ.Α. Κομοτηνή Ξάνθη, Πατρώνυμο: Μαύρος\n"
          ],
          "name": "stdout"
        },
        {
          "output_type": "stream",
          "text": [
            "Setting `pad_token_id` to `eos_token_id`:50256 for open-end generation.\n"
          ],
          "name": "stderr"
        },
        {
          "output_type": "stream",
          "text": [
            "  Batch 2,200  of  2,763. Loss: 0.46229031682014465.   Elapsed: 0:12:01.\n",
            "0:  bench9128884 06/08/2013 Φρεννίκη Pherenike Ευτμανούλου Georgoula Ασποστολία Γκόβα 09/02/1953 Κοζάνη Πολύγυρος Βέροια 57973/8 Υ.Α. Πολύγυρος Κοζάνη, Ημερομηνία Έκδοσης: 06/08/2013\n"
          ],
          "name": "stdout"
        },
        {
          "output_type": "stream",
          "text": [
            "Setting `pad_token_id` to `eos_token_id`:50256 for open-end generation.\n"
          ],
          "name": "stderr"
        },
        {
          "output_type": "stream",
          "text": [
            "  Batch 2,300  of  2,763. Loss: 0.3926316201686859.   Elapsed: 0:12:35.\n",
            "0:  incorporated3553304 29/10/2012 Τσαμπίκος Tsampikos Κοντογιάννης Konstantogiannes Λάμπρος Παναγιώτα Χρυσή 19/12/1948 Φθιώτιδα Δράμα Καβάλα 16609/3 Υ.Α. Δράμα Φθιώτιδα, Όνομα: Τσαμπίκος\n"
          ],
          "name": "stdout"
        },
        {
          "output_type": "stream",
          "text": [
            "Setting `pad_token_id` to `eos_token_id`:50256 for open-end generation.\n"
          ],
          "name": "stderr"
        },
        {
          "output_type": "stream",
          "text": [
            "  Batch 2,400  of  2,763. Loss: 0.3890782594680786.   Elapsed: 0:13:08.\n",
            "0: Peter9452342 07/01/2016 Κλαίρη Klaire Τσικρετάκη Tsikrika Δαμιανός Γαλαντατάνη Κουτσούμπεη 24/07/1978 Ηλεία Πύργος Κομοτηνή 58085/4 Υ.Α. Πύργος Ηλεία, Given Name: Klaire\n"
          ],
          "name": "stdout"
        },
        {
          "output_type": "stream",
          "text": [
            "Setting `pad_token_id` to `eos_token_id`:50256 for open-end generation.\n"
          ],
          "name": "stderr"
        },
        {
          "output_type": "stream",
          "text": [
            "  Batch 2,500  of  2,763. Loss: 0.4084727466106415.   Elapsed: 0:13:41.\n",
            "0: uring5825465 06/04/2013 Κυπαρισσία Kuparissia Μπουτζούρη Mpournournodoroze Ιάκωβος Θεοδοσία Φιλαρέτου 19/06/1945 Χίος Αργοστόλι Καρδίτσα 0989874/9 Υ.Α. Αργοστόλι Χίος, Αριθμός Ταυτότητας: Mpournodoroze\n"
          ],
          "name": "stdout"
        },
        {
          "output_type": "stream",
          "text": [
            "Setting `pad_token_id` to `eos_token_id`:50256 for open-end generation.\n"
          ],
          "name": "stderr"
        },
        {
          "output_type": "stream",
          "text": [
            "  Batch 2,600  of  2,763. Loss: 0.4253086745738983.   Elapsed: 0:14:14.\n",
            "0:  reproductive9811180 17/06/2019 Ξανθή Ksanthe Λουδένη Lekhronia Βουλγερίας Μινέρβα Βαρβάνου 09/06/1959 Άρτα Άρτα Χανιά 98034/3 Υ.Α. Άρτα Άρτα, Επώνυμο: Λουδένη\n"
          ],
          "name": "stdout"
        },
        {
          "output_type": "stream",
          "text": [
            "Setting `pad_token_id` to `eos_token_id`:50256 for open-end generation.\n"
          ],
          "name": "stderr"
        },
        {
          "output_type": "stream",
          "text": [
            "  Batch 2,700  of  2,763. Loss: 0.3908545672893524.   Elapsed: 0:14:47.\n",
            "0:  zone7449166 10/05/2013 Καλομοίρη Kalomoira Χοντζή Khontzia Αρτέμιος Ιουλιανή Φωτακοπούλου 16/08/1917 Φθιώτιδα Καβάλα Χίος 18260/3 Υ.Α. Καβάλα Φθιώτιδα, Ημερομηνία Γέννησης: 16/08/1917\n",
            "\n",
            "  Average training loss: 0.73\n",
            "  Training epoch took: 0:15:09\n",
            "\n",
            "Running Validation...\n",
            "  Validation Loss: 0.32\n",
            "  Validation took: 0:00:48\n",
            "\n",
            "======== Epoch 2 / 4 ========\n",
            "Training...\n"
          ],
          "name": "stdout"
        },
        {
          "output_type": "stream",
          "text": [
            "Setting `pad_token_id` to `eos_token_id`:50256 for open-end generation.\n"
          ],
          "name": "stderr"
        },
        {
          "output_type": "stream",
          "text": [
            "  Batch   100  of  2,763. Loss: 0.34437182545661926.   Elapsed: 0:00:32.\n",
            "0:  commits0559201 07/08/2018 Χαραλαμπία Kharalampia Τσαλτσούρου Tsantou Αθηνάδωρος Αρετή Μποσάκη 21/04/1956 Φλώρινα Τρίκαλα Έδεσσα 18959/8 Υ.Α. Τρίκαλα Φλώρινα, Mητέρας Όνομα: Αρετή\n"
          ],
          "name": "stdout"
        },
        {
          "output_type": "stream",
          "text": [
            "Setting `pad_token_id` to `eos_token_id`:50256 for open-end generation.\n"
          ],
          "name": "stderr"
        },
        {
          "output_type": "stream",
          "text": [
            "  Batch   200  of  2,763. Loss: 0.3869008421897888.   Elapsed: 0:01:05.\n",
            "0:  irony7027296 06/08/2015 Τρισεύγενη Triseugene Κατσαχάκη Katsakhake Ζαφείρης Τριαντάφυλλη Σφακιανίδου 14/08/1945 Άρτα Χανιά Άρτα 78479/7 Υ.Α. Χανιά Άρτα 78479/7, Ημερομηνία Έκδοσης: 06/08/2015\n"
          ],
          "name": "stdout"
        },
        {
          "output_type": "stream",
          "text": [
            "Setting `pad_token_id` to `eos_token_id`:50256 for open-end generation.\n"
          ],
          "name": "stderr"
        },
        {
          "output_type": "stream",
          "text": [
            "  Batch   300  of  2,763. Loss: 0.33395713567733765.   Elapsed: 0:01:38.\n",
            "0:  Sah0862711 18/12/2008 Φωκίων Phokion Αγγελής Aggeles Δωρόθεος Πανδώρα Μητσοπούλου 06/02/1977 Σέρρες Σάμος Χαλκίδα 11695/6 Υ.Α. Σάμος Σέρρες, Αρχή Έκδοσης Δελτίου: Υ.Α. Σάμος Σέρρες\n"
          ],
          "name": "stdout"
        },
        {
          "output_type": "stream",
          "text": [
            "Setting `pad_token_id` to `eos_token_id`:50256 for open-end generation.\n"
          ],
          "name": "stderr"
        },
        {
          "output_type": "stream",
          "text": [
            "  Batch   400  of  2,763. Loss: 0.3239092230796814.   Elapsed: 0:02:12.\n",
            "0:  Bryan8198899 29/08/2010 Βαρθολομαίος Bartholomaios Καραμμάνης Karamanes Ρίζος Καλλιόπη Βουλτσινή 16/08/1970 Χαλκιδική Ιωάννινα Σπάρτη 79412/6 Υ.Α. Ιωάννινα Χαλκιδική, Surname: Karamanes\n"
          ],
          "name": "stdout"
        },
        {
          "output_type": "stream",
          "text": [
            "Setting `pad_token_id` to `eos_token_id`:50256 for open-end generation.\n"
          ],
          "name": "stderr"
        },
        {
          "output_type": "stream",
          "text": [
            "  Batch   500  of  2,763. Loss: 0.33131691813468933.   Elapsed: 0:02:45.\n",
            "0:  spirits6271171 12/11/2011 Ευθυμία Euthumia Ταυλαρίδου Taularidou Πανορμίτης Ανδρομέδα Σπηλιάδου 23/05/1978 Καστοριά Λαμία Σέρρες 18958/6 Υ.Α. Λαμία Καστοριά, Όνομα: Ευθυμία\n"
          ],
          "name": "stdout"
        },
        {
          "output_type": "stream",
          "text": [
            "Setting `pad_token_id` to `eos_token_id`:50256 for open-end generation.\n"
          ],
          "name": "stderr"
        },
        {
          "output_type": "stream",
          "text": [
            "  Batch   600  of  2,763. Loss: 0.32248640060424805.   Elapsed: 0:03:18.\n",
            "0:  sees2582558 07/11/2019 Σελήνη Selene Κουμάρα Koumara Άριστος Αποστολία Σκατίλα 05/01/1960 Ζάκυνθος Πολύγυρος Κοζάνη 51666/3 Υ.Α. Πολύγυρος Ζάκυνθος, Ημερομηνία Έκδοσης: 07/11/2019\n"
          ],
          "name": "stdout"
        },
        {
          "output_type": "stream",
          "text": [
            "Setting `pad_token_id` to `eos_token_id`:50256 for open-end generation.\n"
          ],
          "name": "stderr"
        },
        {
          "output_type": "stream",
          "text": [
            "  Batch   700  of  2,763. Loss: 0.3218693733215332.   Elapsed: 0:03:51.\n",
            "0:  hungry6524716 20/08/2018 Εύκλεια Eukleia Σουλτσινάκη Paulitianake Ευδόξιος Πολυξένη Πετσιά 02/04/1960 Κεφαλληνία Λιβαδιά Άρτα 43309/3 Υ.Α. Λιβαδιά Κεφαλληνία, Επώνυμο: Σουλτσινάκη\n"
          ],
          "name": "stdout"
        },
        {
          "output_type": "stream",
          "text": [
            "Setting `pad_token_id` to `eos_token_id`:50256 for open-end generation.\n"
          ],
          "name": "stderr"
        },
        {
          "output_type": "stream",
          "text": [
            "  Batch   800  of  2,763. Loss: 0.268251895904541.   Elapsed: 0:04:25.\n",
            "0:  PT7246423 30/11/2013 Αστέρω Astero Δημούλα Demoula Μενέλαος Μαράντα Ξυγκάκου 06/03/1924 Βοιωτία Πύργος Καρδίτσα 89560/3 Υ.Α. Πύργος Βοιωτία, Αριθμός Ταυτότητας: PYM83960/3\n"
          ],
          "name": "stdout"
        },
        {
          "output_type": "stream",
          "text": [
            "Setting `pad_token_id` to `eos_token_id`:50256 for open-end generation.\n"
          ],
          "name": "stderr"
        },
        {
          "output_type": "stream",
          "text": [
            "  Batch   900  of  2,763. Loss: 0.2722136378288269.   Elapsed: 0:04:58.\n",
            "0: ü5947268 09/08/2014 Φίλιππος Philippos Θωμόπουλος Thomopoulos Ευμένιος Ιούλια Αποστολίδου 22/12/1974 Ρέθυμνο Ζάκυνθος Λευκάδα 09084/9 Υ.Α. Ζάκυνθος Ρέθυμνο, Given Name: Philippos\n"
          ],
          "name": "stdout"
        },
        {
          "output_type": "stream",
          "text": [
            "Setting `pad_token_id` to `eos_token_id`:50256 for open-end generation.\n"
          ],
          "name": "stderr"
        },
        {
          "output_type": "stream",
          "text": [
            "  Batch 1,000  of  2,763. Loss: 0.23576125502586365.   Elapsed: 0:05:31.\n",
            "0: ruce6530760 22/07/2018 Θωμαίς Thomais Σαμτανίδου Samtanidou Διαμανός Μικές Αρτεμισία 11/12/1991 Θεσσαλονίκη Βέροια Ερμούπολη 37541/6 Υ.Α. Βέροια Θεσσαλονίκη, Given Name: Thomais\n"
          ],
          "name": "stdout"
        },
        {
          "output_type": "stream",
          "text": [
            "Setting `pad_token_id` to `eos_token_id`:50256 for open-end generation.\n"
          ],
          "name": "stderr"
        },
        {
          "output_type": "stream",
          "text": [
            "  Batch 1,100  of  2,763. Loss: 0.2700442969799042.   Elapsed: 0:06:04.\n",
            "0:  derivatives9370042 27/04/2018 Ηρόδοτος Erodotos Σπάλας Spalas Τιμόθεος Αηδόνα Μπαλή 20/02/1916 Καστοριά Μυτιλήνη Καβάλα 01981/2 Υ.Α. Μυτιλήνη Καστοριά, Όνομα: Ηρόδοτος\n"
          ],
          "name": "stdout"
        },
        {
          "output_type": "stream",
          "text": [
            "Setting `pad_token_id` to `eos_token_id`:50256 for open-end generation.\n"
          ],
          "name": "stderr"
        },
        {
          "output_type": "stream",
          "text": [
            "  Batch 1,200  of  2,763. Loss: 0.2416280210018158.   Elapsed: 0:06:37.\n",
            "0: \u00194805998 01/03/2007 Αύγουστος Augoustos Βώσσος Bossos Αργύριος Νεκταρία Τσαμοπούλου 25/01/1925 Αργολίδα Καστοριά Ρέθυμνο 60641/5 Υ.Α. Καστοριά Αργολίδα, Αρχή Έκδοσης Δελτίου: Υ.Α. Καστοριά Αργολίδα\n"
          ],
          "name": "stdout"
        },
        {
          "output_type": "stream",
          "text": [
            "Setting `pad_token_id` to `eos_token_id`:50256 for open-end generation.\n"
          ],
          "name": "stderr"
        },
        {
          "output_type": "stream",
          "text": [
            "  Batch 1,300  of  2,763. Loss: 0.26324114203453064.   Elapsed: 0:07:11.\n",
            "0:  remembering879954401 30/11/2007 Χρυσόστομος Khrusostomos Κοραλίδης Kordatzes Ευσεβείας Καλλιρόη Λαμπρινή 15/12/1972 Ημαθία Καστοριά Καρπενήσι 08212/8 Υ.Α. Καστοριά Ημαθία, Given Name: Khrusostomos\n"
          ],
          "name": "stdout"
        },
        {
          "output_type": "stream",
          "text": [
            "Setting `pad_token_id` to `eos_token_id`:50256 for open-end generation.\n"
          ],
          "name": "stderr"
        },
        {
          "output_type": "stream",
          "text": [
            "  Batch 1,400  of  2,763. Loss: 0.24331046640872955.   Elapsed: 0:07:44.\n",
            "0:  Sources8005641 12/10/2015 Χαρδιώ Kharrenia Μαρτζούκου Martzoukou Λουκάς Ευρούκλεια Αργυράκη 31/01/1933 Λέσβος Κόρινθος Κοζάνη 46272/3 Υ.Α. Κόρινθος Λέσβος, Όνομα: Χαρδιώ\n"
          ],
          "name": "stdout"
        },
        {
          "output_type": "stream",
          "text": [
            "Setting `pad_token_id` to `eos_token_id`:50256 for open-end generation.\n"
          ],
          "name": "stderr"
        },
        {
          "output_type": "stream",
          "text": [
            "  Batch 1,500  of  2,763. Loss: 0.23636506497859955.   Elapsed: 0:08:17.\n",
            "0: ems8722596 04/03/2010 Ευστρατία Eustratia Σαρρή Sarre Αντώνιος Παντούλα Ζιάρα 04/03/1977 Αττική Κιλκίς Αγ. Νικόλαος 09333/7 Υ.Α. Κιλκίς Αττική, Όνομα: Ευστρατία\n"
          ],
          "name": "stdout"
        },
        {
          "output_type": "stream",
          "text": [
            "Setting `pad_token_id` to `eos_token_id`:50256 for open-end generation.\n"
          ],
          "name": "stderr"
        },
        {
          "output_type": "stream",
          "text": [
            "  Batch 1,600  of  2,763. Loss: 0.15489305555820465.   Elapsed: 0:08:50.\n",
            "0: tz0528331 18/02/2017 Συμεωνία Sumeonia Κατσαμιώτη Katsamiotake Αντύπας Ναυσικά Μπαλανίκα 24/07/1945 Αρκαδία Δράμα Καβάλα 30120/4 Υ.Α. Δράμα Αρκαδία, Mητέρας Όνομα: Ναυσικά\n"
          ],
          "name": "stdout"
        },
        {
          "output_type": "stream",
          "text": [
            "Setting `pad_token_id` to `eos_token_id`:50256 for open-end generation.\n"
          ],
          "name": "stderr"
        },
        {
          "output_type": "stream",
          "text": [
            "  Batch 1,700  of  2,763. Loss: 0.19172868132591248.   Elapsed: 0:09:23.\n",
            "0: matic2875986 12/05/2016 Ιάσονας Iasonas Κοττσίκας Kottikas Τίτος Ελέσσα Μπαλή 08/02/1956 Πέλλα Βέροια Βέροια 22965/7 Υ.Α. Βέροια Πέλλα, Given Name: Iasonas\n"
          ],
          "name": "stdout"
        },
        {
          "output_type": "stream",
          "text": [
            "Setting `pad_token_id` to `eos_token_id`:50256 for open-end generation.\n"
          ],
          "name": "stderr"
        },
        {
          "output_type": "stream",
          "text": [
            "  Batch 1,800  of  2,763. Loss: 0.18910883367061615.   Elapsed: 0:09:56.\n",
            "0:  synd2770396 24/01/2007 Ιορδανία Iordania Μπατσάκη Manta Ιορδάνης Αστέρω Asteroudake Αριστοφάνης Ιουλιανία 26/07/1941 Κέρκυρα Κατερίνη Λαμία 05973/7 Υ.Α. Κατερίνη Κέρκυρα, Επίθετο Μητέρας: Ιουλιανία\n"
          ],
          "name": "stdout"
        },
        {
          "output_type": "stream",
          "text": [
            "Setting `pad_token_id` to `eos_token_id`:50256 for open-end generation.\n"
          ],
          "name": "stderr"
        },
        {
          "output_type": "stream",
          "text": [
            "  Batch 1,900  of  2,763. Loss: 0.20976851880550385.   Elapsed: 0:10:30.\n",
            "0:  gam9369446 02/06/2013 Ευθύμιος Euthumios Τσότρας Tsotras Λουκιανός Ματθίλδη Κουζουλά 24/04/1927 Σέρρες Γρεβενά Έδεσσα 87714/3 Υ.Α. Γρεβενά Σέρρες, Πατρώνυμο: Λουκιανός\n"
          ],
          "name": "stdout"
        },
        {
          "output_type": "stream",
          "text": [
            "Setting `pad_token_id` to `eos_token_id`:50256 for open-end generation.\n"
          ],
          "name": "stderr"
        },
        {
          "output_type": "stream",
          "text": [
            "  Batch 2,000  of  2,763. Loss: 0.21011796593666077.   Elapsed: 0:11:03.\n",
            "0:  injury4803172 29/05/2019 Ξανθή Ksanthe Χρυσή Khrusou Λέων Σπυριδούλα Αγραφιώτη 15/03/1942 Χίος Κατερίνη Καστοριά 78206/7 Υ.Α. Κατερίνη Χίος, Δημότης: Καστοριά 78206/7\n"
          ],
          "name": "stdout"
        },
        {
          "output_type": "stream",
          "text": [
            "Setting `pad_token_id` to `eos_token_id`:50256 for open-end generation.\n"
          ],
          "name": "stderr"
        },
        {
          "output_type": "stream",
          "text": [
            "  Batch 2,100  of  2,763. Loss: 0.17622841894626617.   Elapsed: 0:11:36.\n",
            "0: aza2491163 09/01/2015 Ματθαίος Matthaios Σιρανούς Sarantes Ρίζος Γιαννούλα Ιωακείμ 18/02/2019 Αιτωλία & Ακαρνανία Καρπενήσι Καρπενήσι 85427/4 Υ.Α. Καρπενήσι Αιτωλία & Ακαρνανία, Επίθετο Μητέρας: Ιωακείμ\n"
          ],
          "name": "stdout"
        },
        {
          "output_type": "stream",
          "text": [
            "Setting `pad_token_id` to `eos_token_id`:50256 for open-end generation.\n"
          ],
          "name": "stderr"
        },
        {
          "output_type": "stream",
          "text": [
            "  Batch 2,200  of  2,763. Loss: 0.15673981606960297.   Elapsed: 0:12:10.\n",
            "0:  membrane6766605 10/04/2018 Ερμόλαος Ermolaos Τζιρατούκος Tsiaras Αθηνόδωρος Περσεφόνη Παπανδρέου 22/12/1924 Ηράκλειο Μεσολόγγι Καλαμάτα 62473/5 Υ.Α. Μεσολόγγι Ηράκλειο, Πατρώνυμο: Αθηνόδωρος\n"
          ],
          "name": "stdout"
        },
        {
          "output_type": "stream",
          "text": [
            "Setting `pad_token_id` to `eos_token_id`:50256 for open-end generation.\n"
          ],
          "name": "stderr"
        },
        {
          "output_type": "stream",
          "text": [
            "  Batch 2,300  of  2,763. Loss: 0.19373327493667603.   Elapsed: 0:12:43.\n",
            "0: ijing2614508 29/01/2012 Αδαμάντιος Adamantios Τζιγκούς Tzigkouas Αριστείδης Ελένη Καραγάκου 24/03/1937 Λευκάδα Ηράκλειο Ξάνθη 30773/1 Υ.Α. Ηράκλειο Λευκάδα, Ημερομηνία Έκδοσης: 29/01/2012\n"
          ],
          "name": "stdout"
        },
        {
          "output_type": "stream",
          "text": [
            "Setting `pad_token_id` to `eos_token_id`:50256 for open-end generation.\n"
          ],
          "name": "stderr"
        },
        {
          "output_type": "stream",
          "text": [
            "  Batch 2,400  of  2,763. Loss: 0.17303915321826935.   Elapsed: 0:13:16.\n",
            "0:  cast2574412 13/04/2018 Σάρα Sarra Πρέκα Preka Βαρσάμος Χρυσαφένια Σπανίδου 23/01/1917 Χανιά Βόλος Χαλκίδα 11082/9 Υ.Α. Βόλος Χανιά, Surname: Preka\n"
          ],
          "name": "stdout"
        },
        {
          "output_type": "stream",
          "text": [
            "Setting `pad_token_id` to `eos_token_id`:50256 for open-end generation.\n"
          ],
          "name": "stderr"
        },
        {
          "output_type": "stream",
          "text": [
            "  Batch 2,500  of  2,763. Loss: 0.21112993359565735.   Elapsed: 0:13:49.\n",
            "0:  purch6798228 27/06/2019 Ευσεβείδης Eustratios Τσιαντάς Tsiantas Λουδοβίκος Παναγιώτα Μαυραειδή 15/03/1969 Λασσίθι Κομοτηνή Λιβαδιά 48536/2 Υ.Α. Κομοτηνή Λασσίθι, Όνομα: Ευσεβείδης\n"
          ],
          "name": "stdout"
        },
        {
          "output_type": "stream",
          "text": [
            "Setting `pad_token_id` to `eos_token_id`:50256 for open-end generation.\n"
          ],
          "name": "stderr"
        },
        {
          "output_type": "stream",
          "text": [
            "  Batch 2,600  of  2,763. Loss: 0.12411264330148697.   Elapsed: 0:14:23.\n",
            "0:  shoulders0963845 07/11/2007 Ευσταθία Eustathia Καρατάσου Karatasou Ορέστης Θεοφανία Βραδή 26/01/1993 Αχαΐα Σπάρτη Καρπενήσι 18551/3 Υ.Α. Σπάρτη Αχαΐα, Ημερομηνία Έκδοσης: 07/11/2007\n"
          ],
          "name": "stdout"
        },
        {
          "output_type": "stream",
          "text": [
            "Setting `pad_token_id` to `eos_token_id`:50256 for open-end generation.\n"
          ],
          "name": "stderr"
        },
        {
          "output_type": "stream",
          "text": [
            "  Batch 2,700  of  2,763. Loss: 0.16725952923297882.   Elapsed: 0:14:56.\n",
            "0:  built0776611 13/06/2010 Απόστολος Apostolos Παπαχριστοδούλου Papakhrestomidou Ιωνάς Σωφρονία Καλογιαννάκη 07486/2 Υ.Α. Αία Λάρισα �486/2, Καταγωγή: Υ.Α. Αία Λάρισα �486/2\n",
            "\n",
            "  Average training loss: 0.25\n",
            "  Training epoch took: 0:15:17\n",
            "\n",
            "Running Validation...\n",
            "  Validation Loss: 0.08\n",
            "  Validation took: 0:00:48\n",
            "\n",
            "======== Epoch 3 / 4 ========\n",
            "Training...\n"
          ],
          "name": "stdout"
        },
        {
          "output_type": "stream",
          "text": [
            "Setting `pad_token_id` to `eos_token_id`:50256 for open-end generation.\n"
          ],
          "name": "stderr"
        },
        {
          "output_type": "stream",
          "text": [
            "  Batch   100  of  2,763. Loss: 0.19440005719661713.   Elapsed: 0:00:32.\n",
            "0:  openly8946188 02/03/2009 Ευκλείδης Eukleides Φανουδάκης Phaniakoudakes Ξανθός Λευκοθέα Καραντάνα 08/12/1961 Φθιώτιδα Ερμούπολη Τρίπολη 02744/2 Υ.Α. Ερμούπολη Φθιώτιδα, Mητέρας Όνομα: Λευκοθέα\n"
          ],
          "name": "stdout"
        },
        {
          "output_type": "stream",
          "text": [
            "Setting `pad_token_id` to `eos_token_id`:50256 for open-end generation.\n"
          ],
          "name": "stderr"
        },
        {
          "output_type": "stream",
          "text": [
            "  Batch   200  of  2,763. Loss: 0.11784408986568451.   Elapsed: 0:01:05.\n",
            "0:  halted3507853 22/10/2015 Θέμις Themis Χορτάτου Khortatou Μερκούριος Ξανθή Δημτσούδη 05/05/1960 Λάρισσα Κατερίνη Λάρισα 89239/5 Υ.Α. Κατερίνη Λάρισσα, Όνομα: Θέμις\n"
          ],
          "name": "stdout"
        },
        {
          "output_type": "stream",
          "text": [
            "Setting `pad_token_id` to `eos_token_id`:50256 for open-end generation.\n"
          ],
          "name": "stderr"
        },
        {
          "output_type": "stream",
          "text": [
            "  Batch   300  of  2,763. Loss: 0.13274432718753815.   Elapsed: 0:01:38.\n",
            "0:  Nik8300791 24/12/2015 Βλάσης Blases Ράλλης Ralles Δημοσθένης Δάφνη Καλογιάννη 06/02/2005 Ξάνθη Βόλος Χαλκίδα 11082/9 Υ.Α. Βόλος Ξάνθη, Δημότης: Χαλκίδα 11082/9\n"
          ],
          "name": "stdout"
        },
        {
          "output_type": "stream",
          "text": [
            "Setting `pad_token_id` to `eos_token_id`:50256 for open-end generation.\n"
          ],
          "name": "stderr"
        },
        {
          "output_type": "stream",
          "text": [
            "  Batch   400  of  2,763. Loss: 0.07683625817298889.   Elapsed: 0:02:11.\n",
            "0:  tin2138056 18/11/2014 Βαλάντης Balantes Σέργιος Ziogianos Φρειδερίκος Εριέτα Καπανταϊδάκη 07/02/1981 Χίος Καρπενήσι Θεσσαλονίκη 39851/3 Υ.Α. Καρπενήσι Χίος, Ημερομηνία Γέννησης: 07/02/1981\n"
          ],
          "name": "stdout"
        },
        {
          "output_type": "stream",
          "text": [
            "Setting `pad_token_id` to `eos_token_id`:50256 for open-end generation.\n"
          ],
          "name": "stderr"
        },
        {
          "output_type": "stream",
          "text": [
            "  Batch   500  of  2,763. Loss: 0.07605663686990738.   Elapsed: 0:02:45.\n",
            "0:  clinical2138056 18/11/2018 Ξανθός Ksanthos Ψάλτης Psaltes Αθηναγόρας Ήβη Σταματούκου 14/03/1979 Σέρρες Τρίκαλα Θεσσαλονίκη 11262/8 Υ.Α. Τρίκαλα Σέρρες, Given Name: Ksanthos\n"
          ],
          "name": "stdout"
        },
        {
          "output_type": "stream",
          "text": [
            "Setting `pad_token_id` to `eos_token_id`:50256 for open-end generation.\n"
          ],
          "name": "stderr"
        },
        {
          "output_type": "stream",
          "text": [
            "  Batch   600  of  2,763. Loss: 0.07695193588733673.   Elapsed: 0:03:18.\n",
            "0: lections1716001 08/09/2014 Πανταζής Pantazes Θεοδωρόπουλος Theodoropoulos Ζαφείρης Στεργιανή Μπαλανίκα 21/03/1920 Δράμα Πάτρα Μυτιλήνη 71266/3 Υ.Α. Πάτρα Δράμα, Αρχή Έκδοσης Δελτίου: Υ.Α. Πάτρα Δράμα\n"
          ],
          "name": "stdout"
        },
        {
          "output_type": "stream",
          "text": [
            "Setting `pad_token_id` to `eos_token_id`:50256 for open-end generation.\n"
          ],
          "name": "stderr"
        },
        {
          "output_type": "stream",
          "text": [
            "  Batch   700  of  2,763. Loss: 0.10258395969867706.   Elapsed: 0:03:51.\n",
            "0: els5709225 17/04/2019 Οδυσσεύς Odusseus Κεσαλίδης Kesalides Διαμαντής Κωνσταντίνα Καλδή 19/01/1966 Λασσίθι Φλώρινα Ερμούπολη 17336/9 Υ.Α. Φλώρινα Λασσίθι, Επώνυμο: Κεσαλίδης\n"
          ],
          "name": "stdout"
        },
        {
          "output_type": "stream",
          "text": [
            "Setting `pad_token_id` to `eos_token_id`:50256 for open-end generation.\n"
          ],
          "name": "stderr"
        },
        {
          "output_type": "stream",
          "text": [
            "  Batch   800  of  2,763. Loss: 0.09262735396623611.   Elapsed: 0:04:24.\n",
            "0: lab0176752 13/05/2019 Ίκαρος Ikaros Βώσσος Bossos Ανανιάδης Παρέσσα Παπαδήμα 07/03/1944 Έβρος Κόρινθος Πύργος 41145/3 Υ.Α. Κόρινθος Έβρος, Surname: Bossos\n"
          ],
          "name": "stdout"
        },
        {
          "output_type": "stream",
          "text": [
            "Setting `pad_token_id` to `eos_token_id`:50256 for open-end generation.\n"
          ],
          "name": "stderr"
        },
        {
          "output_type": "stream",
          "text": [
            "  Batch   900  of  2,763. Loss: 0.0703602284193039.   Elapsed: 0:04:57.\n",
            "0:  triple9572321 27/12/2017 Ματθαίλδη Matthilde Πhelle Αστέριος Μαργιέττα Σταματούκου 06/04/1963 Θεσσαλονίκη Θεσσαλονίκη Κιλκίς 88109/7 Υ.Α. Θεσσαλονίκη Θεσσαλονίκη, Επίθετο Μητέρας: Σταματούκου\n"
          ],
          "name": "stdout"
        },
        {
          "output_type": "stream",
          "text": [
            "Setting `pad_token_id` to `eos_token_id`:50256 for open-end generation.\n"
          ],
          "name": "stderr"
        },
        {
          "output_type": "stream",
          "text": [
            "  Batch 1,000  of  2,763. Loss: 0.07237598299980164.   Elapsed: 0:05:31.\n",
            "0: 2209369446 02/06/2013 Ευθύμιος Euthumios Τσιάρας Tsiaras Λουκιανός Σταματίνα Αγραφιώτη 31/10/1923 Κιλκίς Καρδίτσα Πύργος 88379/4 Υ.Α. Καρδίτσα Κιλκίς, Επώνυμο: Τσιάρας\n"
          ],
          "name": "stdout"
        },
        {
          "output_type": "stream",
          "text": [
            "Setting `pad_token_id` to `eos_token_id`:50256 for open-end generation.\n"
          ],
          "name": "stderr"
        },
        {
          "output_type": "stream",
          "text": [
            "  Batch 1,100  of  2,763. Loss: 0.1037498265504837.   Elapsed: 0:06:04.\n",
            "0:  See7113557 07/02/2019 Πέτρα Petra Βασιλάκη Basilake Βαρσάμος Λεωνιδιά Βαλκάνου 12/06/1954 Βοιωτία Καστοριά Ρόδος 46276/8 Υ.Α. Καστοριά Βοιωτία, Ημερομηνία Γέννησης: 12/06/1954\n"
          ],
          "name": "stdout"
        },
        {
          "output_type": "stream",
          "text": [
            "Setting `pad_token_id` to `eos_token_id`:50256 for open-end generation.\n"
          ],
          "name": "stderr"
        },
        {
          "output_type": "stream",
          "text": [
            "  Batch 1,200  of  2,763. Loss: 0.07763001322746277.   Elapsed: 0:06:37.\n",
            "0: @@2770396 24/03/2007 Ιορδανία Iordania Σπασέγκου Spasegkou Ηρόδοτος Παταπία Τσαντίδου 23/09/1973 Τρίκαλα Τρίπολη Γρεβενά 85519/7 Υ.Α. Τρίκαλα Τρίκαλα, Given Name: Iordania\n"
          ],
          "name": "stdout"
        },
        {
          "output_type": "stream",
          "text": [
            "Setting `pad_token_id` to `eos_token_id`:50256 for open-end generation.\n"
          ],
          "name": "stderr"
        },
        {
          "output_type": "stream",
          "text": [
            "  Batch 1,300  of  2,763. Loss: 0.06631293892860413.   Elapsed: 0:07:10.\n",
            "0:  host0070210 14/09/2012 Υπαπαντή Upapante Ζερβά Zerba Επαμεινώνδας Θεώνη Τριφτανίδου 30/01/1943 Λάρισσα Έδεσσα Ρόδος 50750/5 Υ.Α. Έδεσσα Λάρισσα, Αριθμός Ταυτότητας: OP0070210\n"
          ],
          "name": "stdout"
        },
        {
          "output_type": "stream",
          "text": [
            "Setting `pad_token_id` to `eos_token_id`:50256 for open-end generation.\n"
          ],
          "name": "stderr"
        },
        {
          "output_type": "stream",
          "text": [
            "  Batch 1,400  of  2,763. Loss: 0.051130425184965134.   Elapsed: 0:07:44.\n",
            "0: role6524716 20/02/2009 Σουλτάνα Soultana Τζιρατούδη Tziratoude Αλέξανδρος Περσεφόνη Μπατζάνη 08/02/1981 Κοζάνη Βέροια Ρόδος 04199/5 Υ.Α. Βέροια Κοζάνη, Αρχή Έκδοσης Δελτίου: Υ.Α. Βέροια Κοζάνη\n"
          ],
          "name": "stdout"
        },
        {
          "output_type": "stream",
          "text": [
            "Setting `pad_token_id` to `eos_token_id`:50256 for open-end generation.\n"
          ],
          "name": "stderr"
        },
        {
          "output_type": "stream",
          "text": [
            "  Batch 1,500  of  2,763. Loss: 0.0519038587808609.   Elapsed: 0:08:17.\n",
            "0: iac8536462 03/11/2008 Δανάη Danae Ζερβά 19/01/1958 Ευρυδίκη Eurudike Κεσίσης Λαμπρινή Βασιλείου 12/09/1972 Σάμος Καβάλα Σπάρτη 61055/4 Υ.Α. Καβάλα Σάμος, Ημερομηνία Έκδοσης: 03/11/2008\n"
          ],
          "name": "stdout"
        },
        {
          "output_type": "stream",
          "text": [
            "Setting `pad_token_id` to `eos_token_id`:50256 for open-end generation.\n"
          ],
          "name": "stderr"
        },
        {
          "output_type": "stream",
          "text": [
            "  Batch 1,600  of  2,763. Loss: 0.04904007166624069.   Elapsed: 0:08:51.\n",
            "0:  LD0578657 19/10/2013 Ιστέας Isidoros Καβούρης Kaboures Λέων Ζαφειρία Χριστοφόρη 13/10/1989 Κιλκίς Καρπενήσι Καβάλα 77486/3 Υ.Α. Καρπενήσι Κιλκίς, Αριθμός Ταυτότητας: LD0578657\n"
          ],
          "name": "stdout"
        },
        {
          "output_type": "stream",
          "text": [
            "Setting `pad_token_id` to `eos_token_id`:50256 for open-end generation.\n"
          ],
          "name": "stderr"
        },
        {
          "output_type": "stream",
          "text": [
            "  Batch 1,700  of  2,763. Loss: 0.05965698882937431.   Elapsed: 0:09:24.\n",
            "0:  Listen9722867 08/10/2017 Σουμέλα Soumela Σαπρίκη Saprike Κλεόπας Ελένη Γεωργίτση 02/12/1912 Ιωάννινα Κιλκίς Λαμία 97229/2 Υ.Α. Κιλκίς Ιωάννινα, Πατρώνυμο: Κλεόπας\n"
          ],
          "name": "stdout"
        },
        {
          "output_type": "stream",
          "text": [
            "Setting `pad_token_id` to `eos_token_id`:50256 for open-end generation.\n"
          ],
          "name": "stderr"
        },
        {
          "output_type": "stream",
          "text": [
            "  Batch 1,800  of  2,763. Loss: 0.061799488961696625.   Elapsed: 0:09:57.\n",
            "0:  dy5015362 03/08/2018 Τρυφωνία Truphonia Καρκανάκη Karkanake Θέμης Φιλαρέτη Ζαχαρίου 16/07/1954 Λασσίθι Άρτα Κόρινθος 34927/4 Υ.Α. Άρτα Λασσίθι, Επώνυμο: Καρκανάκη\n"
          ],
          "name": "stdout"
        },
        {
          "output_type": "stream",
          "text": [
            "Setting `pad_token_id` to `eos_token_id`:50256 for open-end generation.\n"
          ],
          "name": "stderr"
        },
        {
          "output_type": "stream",
          "text": [
            "  Batch 1,900  of  2,763. Loss: 0.059249456971883774.   Elapsed: 0:10:30.\n",
            "0:  Domestic6627215 11/10/2014 Φερενίκη Pherenike Ζαννίκου Zannikou Ευγένιος Θαλασσινή Γαλανάκη 05/11/2002 Πρέβεζα Μυτιλήνη Ρόδος 62177/2 Υ.Α. Μυτιλήνη Πρέβεζα, Καταγωγή: Πρέβεζα Μυτιλήνη\n"
          ],
          "name": "stdout"
        },
        {
          "output_type": "stream",
          "text": [
            "Setting `pad_token_id` to `eos_token_id`:50256 for open-end generation.\n"
          ],
          "name": "stderr"
        },
        {
          "output_type": "stream",
          "text": [
            "  Batch 2,000  of  2,763. Loss: 0.06186610460281372.   Elapsed: 0:11:04.\n",
            "0:  beneficiaries8831764 30/01/2009 Χρυσοβαλάντω Khrusobalanto Χοντζιά Khontzia Σπυρίδων Ασπασία Θασίτου 18/05/1978 Κιλκίς Χαλκίδα Καστοριά 58975/4 Υ.Α. Χαλκίδα Κιλκίς, Καταγωγή: Κιλκίς Χαλκίδα\n"
          ],
          "name": "stdout"
        },
        {
          "output_type": "stream",
          "text": [
            "Setting `pad_token_id` to `eos_token_id`:50256 for open-end generation.\n"
          ],
          "name": "stderr"
        },
        {
          "output_type": "stream",
          "text": [
            "  Batch 2,100  of  2,763. Loss: 0.05911877751350403.   Elapsed: 0:11:37.\n",
            "0:  Title3445175 16/12/2019 Ροδιά Rodia Βαϊραμίδου Bairamidou Πυθαγόρας Δωροθέα Μηλιάδου 06/12/1938 Κεφαλληνία Σπάρτη Καβάλα 28166/5 Υ.Α. Σπάρτη Κεφαλληνία, Αρχή Έκδοσης Δελτίου: Υ.Α. Σπάρτη Κεφαλληνί\n"
          ],
          "name": "stdout"
        },
        {
          "output_type": "stream",
          "text": [
            "Setting `pad_token_id` to `eos_token_id`:50256 for open-end generation.\n"
          ],
          "name": "stderr"
        },
        {
          "output_type": "stream",
          "text": [
            "  Batch 2,200  of  2,763. Loss: 0.05153883993625641.   Elapsed: 0:12:11.\n",
            "0:  μ7397390 18/12/2018 Κλαίρη Klaire Νταγκαλή Ntagkale Ιουλιανός Ιουλιανή Πέτρου 21/03/1918 Φθιώτιδα Κιλκίς Λιβαδιά 73452/6 Υ.Α. Κιλκίς Φθιώτιδα, Επώνυμο: Νταγκαλή\n"
          ],
          "name": "stdout"
        },
        {
          "output_type": "stream",
          "text": [
            "Setting `pad_token_id` to `eos_token_id`:50256 for open-end generation.\n"
          ],
          "name": "stderr"
        },
        {
          "output_type": "stream",
          "text": [
            "  Batch 2,300  of  2,763. Loss: 0.04338911920785904.   Elapsed: 0:12:44.\n",
            "0:  selling5523791 25/01/2011 Ισίδωρος Isidoros Καβούρης Kaboures Αριστοφάνης Ερωφίλη Σιούτα 16/08/1982 Καρδίτσα Καλαμάτα Κόρινθος 83697/4 Υ.Α. Καλαμάτα Καρδίτσα, Αριθμός Ταυτότητας: PM5523791\n"
          ],
          "name": "stdout"
        },
        {
          "output_type": "stream",
          "text": [
            "Setting `pad_token_id` to `eos_token_id`:50256 for open-end generation.\n"
          ],
          "name": "stderr"
        },
        {
          "output_type": "stream",
          "text": [
            "  Batch 2,400  of  2,763. Loss: 0.051157742738723755.   Elapsed: 0:13:18.\n",
            "0:  migrant6209115 09/06/2020 Ιωάννης Ioannes Μάργαρης Margares Λέων Ζαμπέτα Ζαχαριουδάκη 12/03/1994 Βοιωτία Αθήνα Μυτιλήνη 44567/2 Υ.Α. Αθήνα Βοιωτία, Given Name: Ioannes\n"
          ],
          "name": "stdout"
        },
        {
          "output_type": "stream",
          "text": [
            "Setting `pad_token_id` to `eos_token_id`:50256 for open-end generation.\n"
          ],
          "name": "stderr"
        },
        {
          "output_type": "stream",
          "text": [
            "  Batch 2,500  of  2,763. Loss: 0.040549442172050476.   Elapsed: 0:13:51.\n",
            "0: ively2097199 20/08/2013 Ιερόθεος Ierotheos Κωνσταντακόπουλος Konstantakopoulos Αριστομένης Ρόζα Καλογιαννάκη 19/08/1958 Δράμα Μυτιλήνη Θεσσαλονίκη 46735/6 Υ.Α. Μυτιλήνη Δράμα, Όνομα: Ιερόθεος\n"
          ],
          "name": "stdout"
        },
        {
          "output_type": "stream",
          "text": [
            "Setting `pad_token_id` to `eos_token_id`:50256 for open-end generation.\n"
          ],
          "name": "stderr"
        },
        {
          "output_type": "stream",
          "text": [
            "  Batch 2,600  of  2,763. Loss: 0.058386851102113724.   Elapsed: 0:14:24.\n",
            "0:  order4294643 23/03/2013 Λητώ Leto Κλεινάκη Kleinake Γαβριήλ Λυγερή Μαγούλα 26/04/1985 Κεφαλληνία Λάρισα Κοζάνη 46272/3 Υ.Α. Λάρισα Κεφαλληνία, Πατρώνυμο: Γαβριήλ\n"
          ],
          "name": "stdout"
        },
        {
          "output_type": "stream",
          "text": [
            "Setting `pad_token_id` to `eos_token_id`:50256 for open-end generation.\n"
          ],
          "name": "stderr"
        },
        {
          "output_type": "stream",
          "text": [
            "  Batch 2,700  of  2,763. Loss: 0.04595701023936272.   Elapsed: 0:14:57.\n",
            "0:  VPN6320921 10/05/2015 Γαληνός Galenos Λεμονής Lemones Αντώνιος Αφροδίτη Ιωακείμ 07/08/1953 Φλώρινα Ερμούπολη Λευκάδα 80905/9 Υ.Α. Ερμούπολη Φλώρινα, Δημότης: Λευκάδα 80905/9\n",
            "\n",
            "  Average training loss: 0.08\n",
            "  Training epoch took: 0:15:19\n",
            "\n",
            "Running Validation...\n",
            "  Validation Loss: 0.03\n",
            "  Validation took: 0:00:48\n",
            "\n",
            "======== Epoch 4 / 4 ========\n",
            "Training...\n"
          ],
          "name": "stdout"
        },
        {
          "output_type": "stream",
          "text": [
            "Setting `pad_token_id` to `eos_token_id`:50256 for open-end generation.\n"
          ],
          "name": "stderr"
        },
        {
          "output_type": "stream",
          "text": [
            "  Batch   100  of  2,763. Loss: 0.060161277651786804.   Elapsed: 0:00:32.\n",
            "0:  explanation1515697 18/03/2007 Βενέτιος Benetios Σαμαράς Samaras Ιππόλυτος Ευπραξία Τριφτανίδου 23/01/1916 Μαγνησία Ναύπλιο Κόρινθος 76280/9 Υ.Α. Ναύπλιο Μαγνησία, Ημερομηνία Έκδοσης: 18/03/2007\n"
          ],
          "name": "stdout"
        },
        {
          "output_type": "stream",
          "text": [
            "Setting `pad_token_id` to `eos_token_id`:50256 for open-end generation.\n"
          ],
          "name": "stderr"
        },
        {
          "output_type": "stream",
          "text": [
            "  Batch   200  of  2,763. Loss: 0.042248792946338654.   Elapsed: 0:01:05.\n",
            "0:  Bach6320921 10/05/2015 Γαρύφαλλος Garuphallos Λαγογιάννης Lagogiannes Γιάννης Ερωφίλη Μαργιά 09/12/1970 Λασσίθι Πολύγυρος Τρίπολη 23495/9 Υ.Α. Πολύγυρος Λασσίθι, Mητέρας Όνομα: Ερωφίλη\n"
          ],
          "name": "stdout"
        },
        {
          "output_type": "stream",
          "text": [
            "Setting `pad_token_id` to `eos_token_id`:50256 for open-end generation.\n"
          ],
          "name": "stderr"
        },
        {
          "output_type": "stream",
          "text": [
            "  Batch   300  of  2,763. Loss: 0.05391489714384079.   Elapsed: 0:01:39.\n",
            "0:  folder5906000 28/08/2016 Χάρις Kharis Ντουλιάς Ntoulias Πέτρος Ανθούλα Χολέβα 29/04/1928 Ημαθία Κόρινθος Έδεσσα 93478/8 Υ.Α. Κόρινθος Ημαθία, Όνομα: Χάρις\n"
          ],
          "name": "stdout"
        },
        {
          "output_type": "stream",
          "text": [
            "Setting `pad_token_id` to `eos_token_id`:50256 for open-end generation.\n"
          ],
          "name": "stderr"
        },
        {
          "output_type": "stream",
          "text": [
            "  Batch   400  of  2,763. Loss: 0.0380149707198143.   Elapsed: 0:02:12.\n",
            "0:  building9472321 11/10/2019 Ευθαλία Euthalia Καρατάσου Karatasou Ορέστης Χρυσή Σπυριδάκη 31/03/1923 Αργολίδα Καλαμάτα Κομοτηνή 67574/6 Υ.Α. Καλαμάτα Αργολίδα, Επώνυμο: Καρατάσου\n"
          ],
          "name": "stdout"
        },
        {
          "output_type": "stream",
          "text": [
            "Setting `pad_token_id` to `eos_token_id`:50256 for open-end generation.\n"
          ],
          "name": "stderr"
        },
        {
          "output_type": "stream",
          "text": [
            "  Batch   500  of  2,763. Loss: 0.04233432188630104.   Elapsed: 0:02:45.\n",
            "0:  Babylon9722867 08/10/2017 Σουμέλα Soumela Σαπρίκη Saprike Κλεόβουλος Ιοκάστη Τσανάκα 22/12/1948 Ιωάννινα Κιλκίς Σπάρτη 25388/1 Υ.Α. Κιλκίς Ιωάννινα, Επώνυμο: Σαπρίκη\n"
          ],
          "name": "stdout"
        },
        {
          "output_type": "stream",
          "text": [
            "Setting `pad_token_id` to `eos_token_id`:50256 for open-end generation.\n"
          ],
          "name": "stderr"
        },
        {
          "output_type": "stream",
          "text": [
            "  Batch   600  of  2,763. Loss: 0.03071635589003563.   Elapsed: 0:03:18.\n",
            "0: perial2097199 20/08/2013 Ιερόθεος Ierotheos Κωνσταντακόπουλος Konstantakopoulos Αριστομένης Ρόζα Καλογιαννάκη 19/08/1958 Δράμα Μυτιλήνη Θεσσαλονίκη 46735/6 Υ.Α. Μυτιλήνη Δράμα, Αριθμός Ταυτότητας: M54775/2\n"
          ],
          "name": "stdout"
        },
        {
          "output_type": "stream",
          "text": [
            "Setting `pad_token_id` to `eos_token_id`:50256 for open-end generation.\n"
          ],
          "name": "stderr"
        },
        {
          "output_type": "stream",
          "text": [
            "  Batch   700  of  2,763. Loss: 0.04514221101999283.   Elapsed: 0:03:52.\n",
            "0:  rents8831764 30/01/2009 Χρυσοβαλάντω Khrusobalanto Χοντζιά Khontzia Σπυρίδων Ασπασία Θασίτου 18/05/1978 Κιλκίς Χαλκίδα Καστοριά 58975/4 Υ.Α. Χαλκίδα Κιλκίς, Επίθετο Μητέρας: Θασίτου\n"
          ],
          "name": "stdout"
        },
        {
          "output_type": "stream",
          "text": [
            "Setting `pad_token_id` to `eos_token_id`:50256 for open-end generation.\n"
          ],
          "name": "stderr"
        },
        {
          "output_type": "stream",
          "text": [
            "  Batch   800  of  2,763. Loss: 0.03028819151222706.   Elapsed: 0:04:25.\n",
            "0:  Reg2711197 23/09/2019 Βερονίκη Beronike Τάσση Tasse Σωκράτης Ιορδανία Αβραμίδου 18/12/1944 Καρδίτσα Κέρκυρα Κοζάνη 75322/5 Υ.Α. Κέρκυρα Καρδίτσα, Αριθμός Ταυτότητας: Reg2711197\n"
          ],
          "name": "stdout"
        },
        {
          "output_type": "stream",
          "text": [
            "Setting `pad_token_id` to `eos_token_id`:50256 for open-end generation.\n"
          ],
          "name": "stderr"
        },
        {
          "output_type": "stream",
          "text": [
            "  Batch   900  of  2,763. Loss: 0.03795721009373665.   Elapsed: 0:04:58.\n",
            "0: olas1916918 01/09/2016 Ευσεβία Eusebia Πυροβόλου Purobolou Αγγελής Κασσάνδρα Λουμπούτσκου 22/04/2002 Αιτωλία & Ακαρνανία Καβάλα Κομοτηνή 77357/3 Υ.Α. Καβάλα Αιτωλία & Ακαρνανία, Αριθμός Ταυτότητας: XO6984646984\n"
          ],
          "name": "stdout"
        },
        {
          "output_type": "stream",
          "text": [
            "Setting `pad_token_id` to `eos_token_id`:50256 for open-end generation.\n"
          ],
          "name": "stderr"
        },
        {
          "output_type": "stream",
          "text": [
            "  Batch 1,000  of  2,763. Loss: 0.03577335551381111.   Elapsed: 0:05:32.\n",
            "0:  responses8683434 16/08/2008 Σταύρος Stauros Μάνος Manos Ζηνόβιος Ερωφίλη Σκούμπρου 06/03/1963 Καβάλα Άρτα Μεσολόγγι 86834/7 Υ.Α. Άρτα Καβάλα, Ημερομηνία Γέννησης: 06/03/1963\n"
          ],
          "name": "stdout"
        },
        {
          "output_type": "stream",
          "text": [
            "Setting `pad_token_id` to `eos_token_id`:50256 for open-end generation.\n"
          ],
          "name": "stderr"
        },
        {
          "output_type": "stream",
          "text": [
            "  Batch 1,100  of  2,763. Loss: 0.036992378532886505.   Elapsed: 0:06:05.\n",
            "0:  attendance0578657 19/10/2013 Πασχάλης Paskhales Συργής Surges Τρύφων Ελεονόρα Ντάνου 23/04/1924 Ημαθία Καλαμάτα Βέροια 80196/5 Υ.Α. Καλαμάτα Ημαθία, Αριθμός Ταυτότητας: THA6439\n"
          ],
          "name": "stdout"
        },
        {
          "output_type": "stream",
          "text": [
            "Setting `pad_token_id` to `eos_token_id`:50256 for open-end generation.\n"
          ],
          "name": "stderr"
        },
        {
          "output_type": "stream",
          "text": [
            "  Batch 1,200  of  2,763. Loss: 0.03523614630103111.   Elapsed: 0:06:39.\n",
            "0:  rigid4801295 07/03/2019 Θεμιστοκλής Themistokles Καπετάνιος Kapetanios Στέφανος Θεώνη Μηλιάδου 27/06/1991 Αργολίδα Ηράκλειο Ρόδος 02255/2 Υ.Α. Ηράκλειο Αργολίδα, Δημότης: Ρόδος 02255/2\n"
          ],
          "name": "stdout"
        },
        {
          "output_type": "stream",
          "text": [
            "Setting `pad_token_id` to `eos_token_id`:50256 for open-end generation.\n"
          ],
          "name": "stderr"
        },
        {
          "output_type": "stream",
          "text": [
            "  Batch 1,300  of  2,763. Loss: 0.0306808240711689.   Elapsed: 0:07:12.\n",
            "0: gro0500737 21/11/2006 Μιράντα Miranta Μποζίκη Mpozike Θεοδόσης Έλλη Γεωργαρά 14/07/1986 Ροδόπη Έδεσσα Ιωάννινα 79400/9 Υ.Α. Έδεσσα Ροδόπη, Επίθετο Μητέρας: Γεωργαρά\n"
          ],
          "name": "stdout"
        },
        {
          "output_type": "stream",
          "text": [
            "Setting `pad_token_id` to `eos_token_id`:50256 for open-end generation.\n"
          ],
          "name": "stderr"
        },
        {
          "output_type": "stream",
          "text": [
            "  Batch 1,400  of  2,763. Loss: 0.03653042018413544.   Elapsed: 0:07:45.\n",
            "0:  Gre7103166 30/10/2018 Κλυταιμνήστρα Klutaimnestra Κανταρελή Kantarele Στέφανος Κασσιανή Μπαλλή 19/06/1965 Φθιώτιδα Ερμούπολη Έδεσσα 57553/3 Υ.Α. Ερμούπολη Φθιώτιδα, Given Name: Klutaimnestra\n"
          ],
          "name": "stdout"
        },
        {
          "output_type": "stream",
          "text": [
            "Setting `pad_token_id` to `eos_token_id`:50256 for open-end generation.\n"
          ],
          "name": "stderr"
        },
        {
          "output_type": "stream",
          "text": [
            "  Batch 1,500  of  2,763. Loss: 0.04158066213130951.   Elapsed: 0:08:18.\n",
            "0: ura7898956 19/01/2019 Πίνδαρος Pindaros Δέλιος Delios Φοίβος Ζηναϊς Κοτρώτσου 29/02/1976 Άρτα Ηράκλειο Φλώρινα 51862/5 Υ.Α. Ηράκλειο Άρτα, Ημερομηνία Έκδοσης: 19/01/2019\n"
          ],
          "name": "stdout"
        },
        {
          "output_type": "stream",
          "text": [
            "Setting `pad_token_id` to `eos_token_id`:50256 for open-end generation.\n"
          ],
          "name": "stderr"
        },
        {
          "output_type": "stream",
          "text": [
            "  Batch 1,600  of  2,763. Loss: 0.03562692552804947.   Elapsed: 0:08:51.\n",
            "0:  20202036216 16/07/2011 Καλή Kale Γαλάνη Galane Φραγκίσκος Ραλλία Καρκανάκη 02/07/1912 Φωκίδα Τρίκαλα Λιβαδιά 35643/6 Υ.Α. Τρίκαλα Φωκίδα, Αριθμός Ταυτότητας: ON2036216\n"
          ],
          "name": "stdout"
        },
        {
          "output_type": "stream",
          "text": [
            "Setting `pad_token_id` to `eos_token_id`:50256 for open-end generation.\n"
          ],
          "name": "stderr"
        },
        {
          "output_type": "stream",
          "text": [
            "  Batch 1,700  of  2,763. Loss: 0.03699048236012459.   Elapsed: 0:09:25.\n",
            "0:  charging3553304 31/10/2019 Βαρσάμος Barsamos Αξαόπουλος Axaopoulos Διαμαντής Λαμπρινή Καρατάσου 12/07/1945 Τρίκαλα Ιωάννινα Αγ. Νικόλαος 17954/3 Υ.Α. Ιωάννινα Τρίκαλα, Αριθμός Ταυτότητας: K3553304\n"
          ],
          "name": "stdout"
        },
        {
          "output_type": "stream",
          "text": [
            "Setting `pad_token_id` to `eos_token_id`:50256 for open-end generation.\n"
          ],
          "name": "stderr"
        },
        {
          "output_type": "stream",
          "text": [
            "  Batch 1,800  of  2,763. Loss: 0.0353376530110836.   Elapsed: 0:09:58.\n",
            "0:  Sar2736697 15/07/2012 Αμβρόσιος Ambrosios Κουτελιέρης Koutelieres Τσαμπίκος Παναγιώτα Τσουκιά 19/05/1968 Θεσπρωτία Ηγουμενίτσα Τρίκαλα 69099/1 Υ.Α. Ηγουμενίτσα Θεσπρωτία, Ημερομηνία Γέννησης: 19/05/1968\n"
          ],
          "name": "stdout"
        },
        {
          "output_type": "stream",
          "text": [
            "Setting `pad_token_id` to `eos_token_id`:50256 for open-end generation.\n"
          ],
          "name": "stderr"
        },
        {
          "output_type": "stream",
          "text": [
            "  Batch 1,900  of  2,763. Loss: 0.03263894096016884.   Elapsed: 0:10:32.\n",
            "0:  Jas7839273 03/04/2020 Τζανέτος Tzanetos Ζώνιος Zonios Ευσέβιος Φιλιππία Ξυγκάκου 17/01/1936 Ιωάννινα Λιβαδιά Άρτα 71666/7 Υ.Α. Λιβαδιά Ιωάννινα, Όνομα: Τζανέτος\n"
          ],
          "name": "stdout"
        },
        {
          "output_type": "stream",
          "text": [
            "Setting `pad_token_id` to `eos_token_id`:50256 for open-end generation.\n"
          ],
          "name": "stderr"
        },
        {
          "output_type": "stream",
          "text": [
            "  Batch 2,000  of  2,763. Loss: 0.030463041737675667.   Elapsed: 0:11:05.\n",
            "0:  permit0547427 29/10/2016 Ξανθίππη Ksanthippe Βασιλείου Basileiou Ταξιάρχης Ευστρατία Κοκκίνου 05/08/1996 Τρίκαλα Μυτιλήνη Θεσσαλονίκη 89560/2 Υ.Α. Μυτιλήνη Τρίκαλα, Όνομα: Ξανθίππη\n"
          ],
          "name": "stdout"
        },
        {
          "output_type": "stream",
          "text": [
            "Setting `pad_token_id` to `eos_token_id`:50256 for open-end generation.\n"
          ],
          "name": "stderr"
        },
        {
          "output_type": "stream",
          "text": [
            "  Batch 2,100  of  2,763. Loss: 0.033360160887241364.   Elapsed: 0:11:38.\n",
            "0:  Administrator4835742 15/10/2008 Αιμιλία Aimilia Μασιάλα Masiala Λέανδρος Ακριβή Κονιάρη 05/12/1920 Καβάλα Πρέβεζα Πύργος 12642/3 Υ.Α. Πρέβεζα Καβάλα, Καταγωγή: Καβάλα Πρέβεζα\n"
          ],
          "name": "stdout"
        },
        {
          "output_type": "stream",
          "text": [
            "Setting `pad_token_id` to `eos_token_id`:50256 for open-end generation.\n"
          ],
          "name": "stderr"
        },
        {
          "output_type": "stream",
          "text": [
            "  Batch 2,200  of  2,763. Loss: 0.03575645387172699.   Elapsed: 0:12:11.\n",
            "0:  EVENTS8348636 18/10/2009 Διονυσία Dionusia Κετεσίδου Ketesidou Ιππόλυτος Βέρα Πλατάκη 22/01/1949 Φωκίδα Ρόδος Ζάκυνθος 67504/2 Υ.Α. Ρόδος Φωκίδα, Δημότης: Ζάκυνθος 67504/2\n"
          ],
          "name": "stdout"
        },
        {
          "output_type": "stream",
          "text": [
            "Setting `pad_token_id` to `eos_token_id`:50256 for open-end generation.\n"
          ],
          "name": "stderr"
        },
        {
          "output_type": "stream",
          "text": [
            "  Batch 2,300  of  2,763. Loss: 0.03200853615999222.   Elapsed: 0:12:45.\n",
            "0:  Mental8985227 24/06/2012 Προκόπιος Prokopios Δουκάς Doukas Αυξέντιος Χρυσόστομη Φωτακοπούλου 07/09/1988 Χίος Μεσολόγγι Αγ. Νικόλαος 20675/8 Υ.Α. Μεσολόγγι Χίος, Given Name: Prokopios\n"
          ],
          "name": "stdout"
        },
        {
          "output_type": "stream",
          "text": [
            "Setting `pad_token_id` to `eos_token_id`:50256 for open-end generation.\n"
          ],
          "name": "stderr"
        },
        {
          "output_type": "stream",
          "text": [
            "  Batch 2,400  of  2,763. Loss: 0.02816830575466156.   Elapsed: 0:13:18.\n",
            "0: ids2035856 25/07/2012 Πούλια Poulia Νάντσου Nantsou Λεμονής Κορνηλία Μοσχοβάκη 14/01/2008 Πιερία Βόλος Βόλος 87996/6 Υ.Α. Βόλος Πιερία, Αρχή Έκδοσης Δελτίου: Υ.Α. Βόλος Πιερία\n"
          ],
          "name": "stdout"
        },
        {
          "output_type": "stream",
          "text": [
            "Setting `pad_token_id` to `eos_token_id`:50256 for open-end generation.\n"
          ],
          "name": "stderr"
        },
        {
          "output_type": "stream",
          "text": [
            "  Batch 2,500  of  2,763. Loss: 0.032193608582019806.   Elapsed: 0:13:51.\n",
            "0: ceans6320921 10/05/2015 Γαρυφαλλιά Garuphallia Γεωργακοπούλου Georgakopoulou Ιερόθεος Φρειδερίκη Βερβερίδου 23/12/1964 Χαλκιδική Κόρινθος Ηγουμενίτσα 41456/2 Υ.Α. Κόρινθος Χαλκιδική, Given Name: Garuphallia\n"
          ],
          "name": "stdout"
        },
        {
          "output_type": "stream",
          "text": [
            "Setting `pad_token_id` to `eos_token_id`:50256 for open-end generation.\n"
          ],
          "name": "stderr"
        },
        {
          "output_type": "stream",
          "text": [
            "  Batch 2,600  of  2,763. Loss: 0.03261570632457733.   Elapsed: 0:14:25.\n",
            "0:  genetically1061755 24/10/2016 Ακριβός Akribos Ραγκούσης Ragkouses Διογένης Νικολέτα Λιούκα 14/09/1957 Ημαθία Άμφισσα Χανιά 11198/8 Υ.Α. Άμφισσα Ημαθία, Επώνυμο: Ραγκούσης\n"
          ],
          "name": "stdout"
        },
        {
          "output_type": "stream",
          "text": [
            "Setting `pad_token_id` to `eos_token_id`:50256 for open-end generation.\n"
          ],
          "name": "stderr"
        },
        {
          "output_type": "stream",
          "text": [
            "  Batch 2,700  of  2,763. Loss: 0.029671983793377876.   Elapsed: 0:14:58.\n",
            "0:  advice9356014 19/07/2015 Κλήμης Klemes Παντζέκος Pantzekos Ερρίκος Ευτυχία Μαρτζούκου 18/02/2010 Φλώρινα Χανιά Δράμα 54496/2 Υ.Α. Χανιά Φλώρινα, Καταγωγή: Φλώρινα Χανιά\n",
            "\n",
            "  Average training loss: 0.04\n",
            "  Training epoch took: 0:15:19\n",
            "\n",
            "Running Validation...\n",
            "  Validation Loss: 0.03\n",
            "  Validation took: 0:00:48\n",
            "\n",
            "Training complete!\n",
            "Total training took 1:04:16 (h:mm:ss)\n"
          ],
          "name": "stdout"
        }
      ]
    },
    {
      "cell_type": "markdown",
      "metadata": {
        "id": "ekM7JgDYcDpV"
      },
      "source": [
        "# Results - Score"
      ]
    },
    {
      "cell_type": "markdown",
      "metadata": {
        "id": "IcnU3S0acTel"
      },
      "source": [
        "## Loss table"
      ]
    },
    {
      "cell_type": "code",
      "metadata": {
        "id": "BlgTuc4_bjMN",
        "colab": {
          "base_uri": "https://localhost:8080/",
          "height": 205
        },
        "outputId": "330949fd-b04a-45c7-b9d0-2f76bd2463fb"
      },
      "source": [
        "# Display floats with two decimal places.\n",
        "pd.set_option('precision', 2)\n",
        "\n",
        "# Create a DataFrame from our training statistics.\n",
        "df_stats = pd.DataFrame(data=training_stats)\n",
        "\n",
        "# Use the 'epoch' as the row index.\n",
        "df_stats = df_stats.set_index('epoch')\n",
        "\n",
        "# A hack to force the column headers to wrap.\n",
        "#df = df.style.set_table_styles([dict(selector=\"th\",props=[('max-width', '70px')])])\n",
        "\n",
        "# Display the table.\n",
        "df_stats"
      ],
      "execution_count": 38,
      "outputs": [
        {
          "output_type": "execute_result",
          "data": {
            "text/html": [
              "<div>\n",
              "<style scoped>\n",
              "    .dataframe tbody tr th:only-of-type {\n",
              "        vertical-align: middle;\n",
              "    }\n",
              "\n",
              "    .dataframe tbody tr th {\n",
              "        vertical-align: top;\n",
              "    }\n",
              "\n",
              "    .dataframe thead th {\n",
              "        text-align: right;\n",
              "    }\n",
              "</style>\n",
              "<table border=\"1\" class=\"dataframe\">\n",
              "  <thead>\n",
              "    <tr style=\"text-align: right;\">\n",
              "      <th></th>\n",
              "      <th>Training Loss</th>\n",
              "      <th>Valid. Loss</th>\n",
              "      <th>Training Time</th>\n",
              "      <th>Validation Time</th>\n",
              "    </tr>\n",
              "    <tr>\n",
              "      <th>epoch</th>\n",
              "      <th></th>\n",
              "      <th></th>\n",
              "      <th></th>\n",
              "      <th></th>\n",
              "    </tr>\n",
              "  </thead>\n",
              "  <tbody>\n",
              "    <tr>\n",
              "      <th>1</th>\n",
              "      <td>0.73</td>\n",
              "      <td>0.32</td>\n",
              "      <td>0:15:09</td>\n",
              "      <td>0:00:48</td>\n",
              "    </tr>\n",
              "    <tr>\n",
              "      <th>2</th>\n",
              "      <td>0.25</td>\n",
              "      <td>0.08</td>\n",
              "      <td>0:15:17</td>\n",
              "      <td>0:00:48</td>\n",
              "    </tr>\n",
              "    <tr>\n",
              "      <th>3</th>\n",
              "      <td>0.08</td>\n",
              "      <td>0.03</td>\n",
              "      <td>0:15:19</td>\n",
              "      <td>0:00:48</td>\n",
              "    </tr>\n",
              "    <tr>\n",
              "      <th>4</th>\n",
              "      <td>0.04</td>\n",
              "      <td>0.03</td>\n",
              "      <td>0:15:19</td>\n",
              "      <td>0:00:48</td>\n",
              "    </tr>\n",
              "  </tbody>\n",
              "</table>\n",
              "</div>"
            ],
            "text/plain": [
              "       Training Loss  Valid. Loss Training Time Validation Time\n",
              "epoch                                                          \n",
              "1               0.73         0.32       0:15:09         0:00:48\n",
              "2               0.25         0.08       0:15:17         0:00:48\n",
              "3               0.08         0.03       0:15:19         0:00:48\n",
              "4               0.04         0.03       0:15:19         0:00:48"
            ]
          },
          "metadata": {
            "tags": []
          },
          "execution_count": 38
        }
      ]
    },
    {
      "cell_type": "markdown",
      "metadata": {
        "id": "M9hiiMM3cbR1"
      },
      "source": [
        "## Loss diagram"
      ]
    },
    {
      "cell_type": "code",
      "metadata": {
        "id": "8999yHpJOumw",
        "colab": {
          "base_uri": "https://localhost:8080/",
          "height": 427
        },
        "outputId": "4146f928-ba81-4a3a-f893-758951f646fe"
      },
      "source": [
        "import seaborn as sns \n",
        "import matplotlib.pyplot as plt\n",
        "%matplotlib inline\n",
        "# Use plot styling from seaborn.\n",
        "sns.set(style='darkgrid')\n",
        "\n",
        "# Increase the plot size and font size.\n",
        "sns.set(font_scale=1.5)\n",
        "plt.rcParams[\"figure.figsize\"] = (12,6)\n",
        "\n",
        "# Plot the learning curve.\n",
        "plt.plot(df_stats['Training Loss'], 'b-o', label=\"Training\")\n",
        "plt.plot(df_stats['Valid. Loss'], 'g-o', label=\"Validation\")\n",
        "\n",
        "# Label the plot.\n",
        "plt.title(\"Training & Validation Loss\")\n",
        "plt.xlabel(\"Epoch\")\n",
        "plt.ylabel(\"Loss\")\n",
        "plt.legend()\n",
        "plt.xticks([1, 2, 3, 4])\n",
        "\n",
        "plt.show()"
      ],
      "execution_count": 39,
      "outputs": [
        {
          "output_type": "display_data",
          "data": {
            "image/png": "[encoded data removed]",
            "text/plain": [
              "<Figure size 864x432 with 1 Axes>"
            ]
          },
          "metadata": {
            "tags": []
          }
        }
      ]
    },
    {
      "cell_type": "markdown",
      "metadata": {
        "id": "xxzT8MlrOm4r"
      },
      "source": [
        "Let's view the summary of the training process.\n"
      ]
    },
    {
      "cell_type": "markdown",
      "metadata": {
        "id": "Ug-5drSDO1KC"
      },
      "source": [
        "## Display Model Info"
      ]
    },
    {
      "cell_type": "code",
      "metadata": {
        "id": "xvdv0USaO2FN",
        "colab": {
          "base_uri": "https://localhost:8080/"
        },
        "outputId": "c1237019-d60a-4316-af02-a6731ae13cd0"
      },
      "source": [
        "# Get all of the model's parameters as a list of tuples.\n",
        "params = list(model.named_parameters())\n",
        "\n",
        "print('The GPT-2 model has {:} different named parameters.\\n'.format(len(params)))\n",
        "\n",
        "print('==== Embedding Layer ====\\n')\n",
        "\n",
        "for p in params[0:2]:\n",
        "    print(\"{:<55} {:>12}\".format(p[0], str(tuple(p[1].size()))))\n",
        "\n",
        "print('\\n==== First Transformer ====\\n')\n",
        "\n",
        "for p in params[2:14]:\n",
        "    print(\"{:<55} {:>12}\".format(p[0], str(tuple(p[1].size()))))\n",
        "\n",
        "print('\\n==== Output Layer ====\\n')\n",
        "\n",
        "for p in params[-2:]:\n",
        "    print(\"{:<55} {:>12}\".format(p[0], str(tuple(p[1].size()))))"
      ],
      "execution_count": 41,
      "outputs": [
        {
          "output_type": "stream",
          "text": [
            "The GPT-2 model has 148 different named parameters.\n",
            "\n",
            "==== Embedding Layer ====\n",
            "\n",
            "transformer.wte.weight                                  (50258, 768)\n",
            "transformer.wpe.weight                                   (1024, 768)\n",
            "\n",
            "==== First Transformer ====\n",
            "\n",
            "transformer.h.0.ln_1.weight                                   (768,)\n",
            "transformer.h.0.ln_1.bias                                     (768,)\n",
            "transformer.h.0.attn.c_attn.weight                       (768, 2304)\n",
            "transformer.h.0.attn.c_attn.bias                             (2304,)\n",
            "transformer.h.0.attn.c_proj.weight                        (768, 768)\n",
            "transformer.h.0.attn.c_proj.bias                              (768,)\n",
            "transformer.h.0.ln_2.weight                                   (768,)\n",
            "transformer.h.0.ln_2.bias                                     (768,)\n",
            "transformer.h.0.mlp.c_fc.weight                          (768, 3072)\n",
            "transformer.h.0.mlp.c_fc.bias                                (3072,)\n",
            "transformer.h.0.mlp.c_proj.weight                        (3072, 768)\n",
            "transformer.h.0.mlp.c_proj.bias                               (768,)\n",
            "\n",
            "==== Output Layer ====\n",
            "\n",
            "transformer.ln_f.weight                                       (768,)\n",
            "transformer.ln_f.bias                                         (768,)\n"
          ],
          "name": "stdout"
        }
      ]
    },
    {
      "cell_type": "markdown",
      "metadata": {
        "id": "PLXYHTOSc8Px"
      },
      "source": [
        "## predict"
      ]
    },
    {
      "cell_type": "code",
      "metadata": {
        "id": "TDQm5296cJWF",
        "colab": {
          "base_uri": "https://localhost:8080/",
          "height": 35
        },
        "outputId": "9702f6d2-fedf-4da7-e40e-323d47a988b1"
      },
      "source": [
        "# record from data that has not seen\n",
        "data[5640]"
      ],
      "execution_count": 42,
      "outputs": [
        {
          "output_type": "execute_result",
          "data": {
            "application/vnd.google.colaboratory.intrinsic+json": {
              "type": "string"
            },
            "text/plain": [
              "'K3809285 25/12/2014 Αταλάντη Atalante Κατσιλλή Katsille Απόλλων Ναυσικά Μπούζα 29/10/1955 Μεσσηνία Έδεσσα Πολύγυρος 57293/6 Υ.Α. Έδεσσα Μεσσηνία, Δημότης: Πολύγυρος 57293/6<|endoftext|>'"
            ]
          },
          "metadata": {
            "tags": []
          },
          "execution_count": 42
        }
      ]
    },
    {
      "cell_type": "code",
      "metadata": {
        "id": "Y4NxwDi5G41O",
        "colab": {
          "base_uri": "https://localhost:8080/"
        },
        "outputId": "0dff66e7-2ee7-49bd-e229-c69d7ab35949"
      },
      "source": [
        "model.eval()\n",
        "\n",
        "prompt = \"B0907602 18/10/2016 Σεραφείμ Isabella Παπαχαραλάμπου Zoe Βασίλης Φιλίππα Σακελλαρίου 09/05/1926 Ροδόπη Λάρισα Καρπενήσι 92821/7 Υ.Α. Λάρισα Ροδόπη,\"\n",
        "\n",
        "generated = torch.tensor(tokenizer.encode(prompt)).unsqueeze(0)\n",
        "generated = generated.to(device)\n",
        "\n",
        "sample_outputs = model.generate(\n",
        "                                generated, \n",
        "                                do_sample=True,   \n",
        "                                top_k=50, \n",
        "                                max_length = 200,\n",
        "                                top_p=0.95, \n",
        "                                num_return_sequences=5\n",
        "                                )\n",
        "\n",
        "for i, sample_output in enumerate(sample_outputs):\n",
        "  print(\"{}: {}\\n\\n\".format(i, tokenizer.decode(sample_output, skip_special_tokens=True)))"
      ],
      "execution_count": 45,
      "outputs": [
        {
          "output_type": "stream",
          "text": [
            "Setting `pad_token_id` to `eos_token_id`:50256 for open-end generation.\n"
          ],
          "name": "stderr"
        },
        {
          "output_type": "stream",
          "text": [
            "0: B0907602 18/10/2016 Σεραφείμ Isabella Παπαχαραλάμπου Zoe Βασίλης Φιλίππα Σακελλαρίου 09/05/1926 Ροδόπη Λάρισα Καρπενήσι 92821/7 Υ.Α. Λάρισα Ροδόπη, Πατρώνυμο: Βασίλης\n",
            "\n",
            "\n",
            "1: B0907602 18/10/2016 Σεραφείμ Isabella Παπαχαραλάμπου Zoe Βασίλης Φιλίππα Σακελλαρίου 09/05/1926 Ροδόπη Λάρισα Καρπενήσι 92821/7 Υ.Α. Λάρισα Ροδόπη, Αρχή Έκδοσης Δελτίου: Υ.Α. Λάρισα Ροδόπη\n",
            "\n",
            "\n",
            "2: B0907602 18/10/2016 Σεραφείμ Isabella Παπαχαραλάμπου Zoe Βασίλης Φιλίππα Σακελλαρίου 09/05/1926 Ροδόπη Λάρισα Καρπενήσι 92821/7 Υ.Α. Λάρισα Ροδόπη, Mητέρας Όνομα: Φιλίππα\n",
            "\n",
            "\n",
            "3: B0907602 18/10/2016 Σεραφείμ Isabella Παπαχαραλάμπου Zoe Βασίλης Φιλίππα Σακελλαρίου 09/05/1926 Ροδόπη Λάρισα Καρπενήσι 92821/7 Υ.Α. Λάρισα Ροδόπη, Καταγωγή: Ροδόπη Λάρισα\n",
            "\n",
            "\n",
            "4: B0907602 18/10/2016 Σεραφείμ Isabella Παπαχαραλάμπου Zoe Βασίλης Φιλίππα Σακελλαρίου 09/05/1926 Ροδόπη Λάρισα Καρπενήσι 92821/7 Υ.Α. Λάρισα Ροδόπη, Given Name: Isabella\n",
            "\n",
            "\n"
          ],
          "name": "stdout"
        }
      ]
    },
    {
      "cell_type": "markdown",
      "metadata": {
        "id": "XMQRiVXEdIaz"
      },
      "source": [
        "# Save model to google drive"
      ]
    },
    {
      "cell_type": "code",
      "metadata": {
        "id": "iiokrqn-kTSN"
      },
      "source": [
        "import os\n",
        "from google.colab import drive"
      ],
      "execution_count": 46,
      "outputs": []
    },
    {
      "cell_type": "code",
      "metadata": {
        "id": "QXlx0JB1kWL8",
        "colab": {
          "base_uri": "https://localhost:8080/"
        },
        "outputId": "a0e72f9d-34c6-43b7-825a-511bb1500fd7"
      },
      "source": [
        "# Saving best-practices: if you use defaults names for the model, you can reload it using from_pretrained()\n",
        "\n",
        "output_dir = './model_save/'\n",
        "\n",
        "# Create output directory if needed\n",
        "if not os.path.exists(output_dir):\n",
        "    os.makedirs(output_dir)\n",
        "\n",
        "print(\"Saving model to %s\" % output_dir)\n",
        "\n",
        "# Save a trained model, configuration and tokenizer using `save_pretrained()`.\n",
        "# They can then be reloaded using `from_pretrained()`\n",
        "model_to_save = model.module if hasattr(model, 'module') else model  # Take care of distributed/parallel training\n",
        "model_to_save.save_pretrained(output_dir)\n",
        "tokenizer.save_pretrained(output_dir)\n",
        "\n",
        "# Good practice: save your training arguments together with the trained model\n",
        "# torch.save(args, os.path.join(output_dir, 'training_args.bin'))\n"
      ],
      "execution_count": 47,
      "outputs": [
        {
          "output_type": "stream",
          "text": [
            "Saving model to ./model_save/\n"
          ],
          "name": "stdout"
        },
        {
          "output_type": "execute_result",
          "data": {
            "text/plain": [
              "('./model_save/tokenizer_config.json',\n",
              " './model_save/special_tokens_map.json',\n",
              " './model_save/vocab.json',\n",
              " './model_save/merges.txt',\n",
              " './model_save/added_tokens.json')"
            ]
          },
          "metadata": {
            "tags": []
          },
          "execution_count": 47
        }
      ]
    },
    {
      "cell_type": "code",
      "metadata": {
        "id": "IvEZYTuVkWG6",
        "colab": {
          "base_uri": "https://localhost:8080/"
        },
        "outputId": "1738812c-ac94-4591-e277-07de4248ea15"
      },
      "source": [
        "!ls -l --block-size=K ./model_save/"
      ],
      "execution_count": 48,
      "outputs": [
        {
          "output_type": "stream",
          "text": [
            "total 499792K\n",
            "-rw-r--r-- 1 root root      1K Jul 27 10:45 added_tokens.json\n",
            "-rw-r--r-- 1 root root      1K Jul 27 10:45 config.json\n",
            "-rw-r--r-- 1 root root    446K Jul 27 10:45 merges.txt\n",
            "-rw-r--r-- 1 root root 498445K Jul 27 10:45 pytorch_model.bin\n",
            "-rw-r--r-- 1 root root      1K Jul 27 10:45 special_tokens_map.json\n",
            "-rw-r--r-- 1 root root      1K Jul 27 10:45 tokenizer_config.json\n",
            "-rw-r--r-- 1 root root    878K Jul 27 10:45 vocab.json\n"
          ],
          "name": "stdout"
        }
      ]
    },
    {
      "cell_type": "code",
      "metadata": {
        "id": "wupt6VXEku1k",
        "colab": {
          "base_uri": "https://localhost:8080/"
        },
        "outputId": "041d97ef-d10b-42ae-b67b-7325378dca37"
      },
      "source": [
        "!ls -l --block-size=M ./model_save/pytorch_model.bin"
      ],
      "execution_count": 49,
      "outputs": [
        {
          "output_type": "stream",
          "text": [
            "-rw-r--r-- 1 root root 487M Jul 27 10:45 ./model_save/pytorch_model.bin\n"
          ],
          "name": "stdout"
        }
      ]
    },
    {
      "cell_type": "markdown",
      "metadata": {
        "id": "rt-VMHS7YM0_"
      },
      "source": [
        "## Path to your google Drive "
      ]
    },
    {
      "cell_type": "code",
      "metadata": {
        "id": "m1j9brwYkuwe",
        "colab": {
          "base_uri": "https://localhost:8080/"
        },
        "outputId": "68db7d88-874a-4a3c-f627-ad1cc3851007"
      },
      "source": [
        "gdrive_dir = '/content/gdrive/'\n",
        "data_dir = os.path.join(gdrive_dir, '\"My Drive\"','\"Colab Notebooks\"', \"GPT2QA\", \"v7\")\n",
        "\n",
        "drive.mount(gdrive_dir, force_remount=True)"
      ],
      "execution_count": 50,
      "outputs": [
        {
          "output_type": "stream",
          "text": [
            "Mounted at /content/gdrive/\n"
          ],
          "name": "stdout"
        }
      ]
    },
    {
      "cell_type": "markdown",
      "metadata": {
        "id": "d8yCsa7JcvTq"
      },
      "source": [
        "## Copy to Gdrive"
      ]
    },
    {
      "cell_type": "code",
      "metadata": {
        "id": "mD7c0FpLkutj"
      },
      "source": [
        "!cp -r ./model_save/ $data_dir"
      ],
      "execution_count": 51,
      "outputs": []
    },
    {
      "cell_type": "markdown",
      "metadata": {
        "id": "lWsT8ZrBeV9y"
      },
      "source": [
        "## Everything set up"
      ]
    },
    {
      "cell_type": "code",
      "metadata": {
        "id": "efngSpVxs6o0"
      },
      "source": [
        ""
      ],
      "execution_count": null,
      "outputs": []
    }
  ]
}